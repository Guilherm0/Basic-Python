{
  "nbformat": 4,
  "nbformat_minor": 0,
  "metadata": {
    "colab": {
      "provenance": [],
      "authorship_tag": "ABX9TyPGwpDJFSstDjf8/nJUeUf1",
      "include_colab_link": true
    },
    "kernelspec": {
      "name": "python3",
      "display_name": "Python 3"
    },
    "language_info": {
      "name": "python"
    }
  },
  "cells": [
    {
      "cell_type": "markdown",
      "metadata": {
        "id": "view-in-github",
        "colab_type": "text"
      },
      "source": [
        "<a href=\"https://colab.research.google.com/github/Guilherm0/Basic-Python/blob/main/Exerc%C3%ADciosCondicionais.ipynb\" target=\"_parent\"><img src=\"https://colab.research.google.com/assets/colab-badge.svg\" alt=\"Open In Colab\"/></a>"
      ]
    },
    {
      "cell_type": "code",
      "execution_count": null,
      "metadata": {
        "colab": {
          "base_uri": "https://localhost:8080/"
        },
        "id": "M0yPxO5oOf9s",
        "outputId": "46042d07-6411-43e1-d41a-d930006403b4"
      },
      "outputs": [
        {
          "output_type": "stream",
          "name": "stdout",
          "text": [
            "           ----------------------------------------\n",
            "                     Depósito do Guimo\n",
            "           ----------------------------------------\n",
            "\n",
            "Seja bem vindo ao depósito do Guimo, como posso lhe ajudar? Quer cebeja\n",
            "\n",
            "Ok, só preciso que me diga seu nome, por favor: guilhermo\n",
            "\n",
            "Beleza, guilhermo! Agora preciso saber o ano que você nasceu: 2001\n",
            "\n",
            "Ok, vou pegar e já volto.\n",
            "fim. :)\n"
          ]
        }
      ],
      "source": [
        "print(' ' * 10,'-' * 40)\n",
        "print(' ' * 20, 'Depósito do Guimo')\n",
        "print(' ' * 10,'-' * 40)\n",
        "print()\n",
        "nada = input('Seja bem vindo ao depósito do Guimo, como posso lhe ajudar? ')\n",
        "print()\n",
        "nome = input('Ok, só preciso que me diga seu nome, por favor: ')\n",
        "print()\n",
        "ano = int(input('Beleza, {}! Agora preciso saber o ano que você nasceu: '.format(nome)))\n",
        "print()\n",
        "\n",
        "if ano <= 2004:\n",
        "  print('Ok, vou pegar e já volto.')\n",
        "else: \n",
        "  print('Opa, infelizmente você é menor de idade. Não poderemos vender.')\n",
        "print('fim. :)')"
      ]
    },
    {
      "cell_type": "code",
      "source": [
        "print(' ' * 10,'-' * 40)\n",
        "print(' ' * 25, 'Médias')\n",
        "print(' ' * 10,'-' * 40)\n",
        "print()\n",
        "nota1 = float(input('Digite sua nota do primeiro bimestre: '))\n",
        "nota2 = float(input('Digite sua nota do segundo bimestre: '))\n",
        "nota3 = float(input('Digite sua nota do terceiro bimestre: '))\n",
        "nota4 = float(input('Digite sua nota do último bimestre: '))\n",
        "\n",
        "media = (nota1 + nota2 + nota3 + nota4) / 4\n",
        "if media >= 8:\n",
        "  print('A sua média foi de {0:.2f}. A sua situação é: Aprovado'.format(media))\n",
        "else:\n",
        "  print('A sua média foi de {0:.2f}. A sua situação é: Reprovado'.format(media))"
      ],
      "metadata": {
        "colab": {
          "base_uri": "https://localhost:8080/"
        },
        "id": "Cox8Z-ymO80Q",
        "outputId": "1a3ae805-094b-45db-d449-9c4c259b16b4"
      },
      "execution_count": null,
      "outputs": [
        {
          "output_type": "stream",
          "name": "stdout",
          "text": [
            "           ----------------------------------------\n",
            "                          Médias\n",
            "           ----------------------------------------\n",
            "\n",
            "Digite sua nota do primeiro bimestre: 8\n",
            "Digite sua nota do segundo bimestre: 8.5\n",
            "Digite sua nota do terceiro bimestre: 7.5\n",
            "Digite sua nota do último bimestre: 9\n",
            "A sua média foi de 8.25. A sua situação é: Aprovado\n"
          ]
        }
      ]
    },
    {
      "cell_type": "code",
      "source": [
        "print(' ' * 10,'+' * 40)\n",
        "print(' ' * 27, 'ALTURA')\n",
        "print(' ' * 10,'+' * 40)\n",
        "print()\n",
        "\n",
        "height = float(input('Digite sua altura: '))\n",
        "n1 = height % 2\n",
        "if n1 == 0:\n",
        "  print('Sua altura é par.')\n",
        "else:\n",
        "  print('Sua altura é ímpar.')\n",
        "print(n1)"
      ],
      "metadata": {
        "colab": {
          "base_uri": "https://localhost:8080/"
        },
        "id": "_AFJWffAScdL",
        "outputId": "95a03bdd-9984-4507-a0d8-c19349586400"
      },
      "execution_count": null,
      "outputs": [
        {
          "output_type": "stream",
          "name": "stdout",
          "text": [
            "           ++++++++++++++++++++++++++++++++++++++++\n",
            "                            ALTURA\n",
            "           ++++++++++++++++++++++++++++++++++++++++\n",
            "\n",
            "Digite sua altura: 2\n",
            "Sua altura é ímpar.\n",
            "0.1999999999999999\n"
          ]
        }
      ]
    },
    {
      "cell_type": "code",
      "source": [
        "print(' ' * 10,'-' * 40)\n",
        "print(' ' * 25, 'Trimestre')\n",
        "print(' ' * 10,'-' * 40)\n",
        "print()\n",
        "\n",
        "dias = int(input('Digite a quantidade de dias: '))\n",
        "if dias <= 90: \n",
        "  print('Estamos no primeiro trimestre.')\n",
        "elif dias > 90 and dias < 181:\n",
        "  print('Estamos no segundo trimestre.')\n",
        "elif dias > 181 and dias < 273:\n",
        "  print('Estamos no terceiro trimestre.')\n",
        "else:\n",
        "  print('Estamos no quarto trimestre.')"
      ],
      "metadata": {
        "colab": {
          "base_uri": "https://localhost:8080/"
        },
        "id": "7gnxp2z1VkLy",
        "outputId": "58b664b4-6bec-43fc-d54e-5acdcd89b0e7"
      },
      "execution_count": null,
      "outputs": [
        {
          "output_type": "stream",
          "name": "stdout",
          "text": [
            "           ----------------------------------------\n",
            "                          Trimestre\n",
            "           ----------------------------------------\n",
            "\n",
            "Digite a quantidade de dias: 360\n",
            "Estamos no quarto trimestre.\n"
          ]
        }
      ]
    },
    {
      "cell_type": "code",
      "source": [
        "print(' ' * 10,'-' * 40)\n",
        "print(' ' * 25, 'Comparação')\n",
        "print(' ' * 10,'-' * 40)\n",
        "print()\n",
        "\n",
        "n1 = int(input('Digite um número inteiro: '))\n",
        "n2 = int(input('Digite outro número inteiro: '))\n",
        "n3 = int(input('Digite mais um número inteiro: '))\n",
        "\n",
        "if n1 > n2 and n1 > n3:\n",
        "  print('{} é o maior.'.format(n1))\n",
        "elif n2 > n1 and n2 > n3:\n",
        "  print('{} é o maior.'.format(n2))\n",
        "elif n3 > n1 and n3 > n2:\n",
        "  print('{} é o maior.'.format(n3))\n",
        "elif n1 == n2 and n1 > n3:\n",
        "  print('{} é igual a {}.'.format(n1,n2))\n",
        "elif n1 == n3 and n1 > n2:\n",
        "  print('{} é igual a {}.'.format(n1,n3))\n",
        "elif n2 == n3 and n2 > n1:\n",
        "  print('{} é igual a {}.'.format(n2,n3))\n",
        "else:\n",
        "  print('Os três números são iguais.')"
      ],
      "metadata": {
        "colab": {
          "base_uri": "https://localhost:8080/"
        },
        "id": "oDQ-ymv_YK-Y",
        "outputId": "dc73a726-f985-4dcb-85cc-b63fb5ad5728"
      },
      "execution_count": null,
      "outputs": [
        {
          "output_type": "stream",
          "name": "stdout",
          "text": [
            "           ----------------------------------------\n",
            "                          Comparação\n",
            "           ----------------------------------------\n",
            "\n",
            "Digite um número inteiro: 2\n",
            "Digite outro número inteiro: 5\n",
            "Digite mais um número inteiro: 5\n",
            "5 é igual a 5.\n"
          ]
        }
      ]
    }
  ]
}