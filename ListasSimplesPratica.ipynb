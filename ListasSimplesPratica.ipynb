{
  "nbformat": 4,
  "nbformat_minor": 0,
  "metadata": {
    "colab": {
      "provenance": [],
      "include_colab_link": true
    },
    "kernelspec": {
      "name": "python3",
      "display_name": "Python 3"
    },
    "language_info": {
      "name": "python"
    }
  },
  "cells": [
    {
      "cell_type": "markdown",
      "metadata": {
        "id": "view-in-github",
        "colab_type": "text"
      },
      "source": [
        "<a href=\"https://colab.research.google.com/github/Guilherm0/Basic-Python/blob/main/ListasSimplesPratica.ipynb\" target=\"_parent\"><img src=\"https://colab.research.google.com/assets/colab-badge.svg\" alt=\"Open In Colab\"/></a>"
      ]
    },
    {
      "cell_type": "markdown",
      "metadata": {
        "id": "dsu3uJksx-M7"
      },
    {
      "cell_type": "markdown",
      "metadata": {
        "id": "Mn_vGqswyBr0"
      },
    {
      "cell_type": "markdown",
      "metadata": {
        "id": "vmOiyAlWk7HR"
      },
      "source": [
        "# Listas\n",
        "\n",
        "As listas são variáveis compostas mutáveis."
      ]
    },
    {
      "cell_type": "markdown",
      "metadata": {
        "id": "gUt0wyiL5ZV2"
      },
      "source": [
        "As listas são variáveis compostas que são declaradas entre colchetes `[]`\n",
        "\n",
        "```\n",
        "lista = ['var1','var2','var3']\n",
        "```\n",
        "\n",
        "Assim como as tuplas elas também aceitam qualquer tipo de dado.\n",
        "\n",
        "<h2> Similaridades entre Listas e Tuplas: </h2>\n",
        "\n",
        "Todas as funções vistas em tuplas também funcionam com Listas:\n",
        "\n",
        "> Fatiamento: `[0] [0:2] [:3] [3:] [-1]` <br>\n",
        "> Métodos: `.index()`      `.count()` <br>\n",
        "> Funções: `len()` e `sorted()` <br>\n",
        "> Concatenar: `lista3 = lista1 + lista2` <br>\n",
        "> Lista dentro de for: `for i in lista` e `for i, v in enumerate(lista):`"
      ]
    },
    {
      "cell_type": "markdown",
      "metadata": {
        "id": "cwuCtaPdCi-Z"
      },
      "source": [
        "## Funções e Métodos para Listas"
      ]
    },
    {
      "cell_type": "markdown",
      "metadata": {
        "id": "gBPUzzksCwsI"
      },
      "source": [
        "* Modificando um termo:\n",
        "\n",
        "```\n",
        "lista[posicao] = novoValor\n",
        "lista[intervalo] = novaLista\n",
        "```\n",
        "\n",
        "<h3> Exemplo 1 </h3>\n",
        "\n",
        "Dada a lista abaixo:\n",
        "\n",
        "`l1 = [2, 6, 4, 5, 7]`\n",
        "\n",
        "* Troque o 3º termo por 3\n",
        "* Troque os 2 primeiros termos por 0 e 1, respectivamente."
      ]
    },
    {
      "cell_type": "code",
      "metadata": {
        "colab": {
          "base_uri": "https://localhost:8080/"
        },
        "id": "hXZDWX8d7ceC",
        "outputId": "8c419c86-e721-4b41-8a69-66391b87507c"
      },
      "source": [
        "# Declarando a lista\n",
        "l1 = [2, 6, 4, 5, 7]\n",
        "print(l1)\n",
        "\n",
        "# Substituindo os valores\n",
        "l1[2] = 3\n",
        "print(l1)\n",
        "l1[0:2] = [0,1]\n",
        "print(l1)"
      ],
      "execution_count": 1,
      "outputs": [
        {
          "output_type": "stream",
          "name": "stdout",
          "text": [
            "[2, 6, 4, 5, 7]\n",
            "[2, 6, 3, 5, 7]\n",
            "[0, 1, 3, 5, 7]\n"
          ]
        }
      ]
    },
    {
      "cell_type": "markdown",
      "metadata": {
        "id": "ahKI6DFu7tR8"
      },
      "source": [
        "* Adicionando termos:\n",
        "\n",
        "```\n",
        "lista.append(valor)\n",
        "lista.insert(posicao, valor)\n",
        "```\n",
        "\n",
        "<h3> Exemplo 2 </h3>\n",
        "\n",
        "Dada a lista abaixo:\n",
        "\n",
        "`l1 = [0, 1, 3, 5, 7]`\n",
        "\n",
        "* Insira 7 para o último valor\n",
        "* Insira 4 na quarta posição"
      ]
    },
    {
      "cell_type": "code",
      "metadata": {
        "colab": {
          "base_uri": "https://localhost:8080/"
        },
        "id": "Hr7FgI3E7s2g",
        "outputId": "5c855c27-0d7a-408d-dfeb-1143b2b48964"
      },
      "source": [
        "# Declarando a lista\n",
        "l1 = [0, 1, 3, 5, 7]\n",
        "print(l1)\n",
        "\n",
        "# Inserindo os valores\n",
        "l1.append(7)\n",
        "print(l1)\n",
        "l1.insert(3, 4)\n",
        "print(l1)"
      ],
      "execution_count": 2,
      "outputs": [
        {
          "output_type": "stream",
          "name": "stdout",
          "text": [
            "[0, 1, 3, 5, 7]\n",
            "[0, 1, 3, 5, 7, 7]\n",
            "[0, 1, 3, 4, 5, 7, 7]\n"
          ]
        }
      ]
    },
    {
      "cell_type": "markdown",
      "metadata": {
        "id": "YK3mGfkh8hKP"
      },
      "source": [
        "Repare que quando usamos o `.insert()` o método insere o valor na posição desejada e desloca todos os outros valores da lista para direita.\n",
        "\n",
        "* Deletando termos:\n",
        "\n",
        "```\n",
        "del lista[posicao]\n",
        "var = lista.pop(pos)\n",
        "lista.remove(valor)\n",
        "```\n",
        "\n",
        "<h3> Exemplo 3 </h3>\n",
        "\n",
        "Dada a lista abaixo:\n",
        "\n",
        "`l1 = [0, 1, 3, 4, 5, 7, 7]`\n",
        "\n",
        "* Delete o 4º item usando `del`\n",
        "* Delete o 3º item usando `.pop` e salve na variável `deletado`\n",
        "* Delete o primeiro valor 7 que aparece na lista\n"
      ]
    },
    {
      "cell_type": "code",
      "metadata": {
        "colab": {
          "base_uri": "https://localhost:8080/"
        },
        "id": "IsvjRK1x9UKL",
        "outputId": "ff4922da-4a74-484b-c31a-efaed54e3da5"
      },
      "source": [
        "# Declarando a lista\n",
        "l1 = [0, 1, 3, 4, 5, 7, 7]\n",
        "print(l1)\n",
        "\n",
        "# Deletando os valores\n",
        "del l1[3]\n",
        "print(l1)\n",
        "deletado = l1.pop(2)\n",
        "print(l1,' - ', deletado)\n",
        "l1.remove(7)\n",
        "print(l1)"
      ],
      "execution_count": 3,
      "outputs": [
        {
          "output_type": "stream",
          "name": "stdout",
          "text": [
            "[0, 1, 3, 4, 5, 7, 7]\n",
            "[0, 1, 3, 5, 7, 7]\n",
            "[0, 1, 5, 7, 7]  -  3\n",
            "[0, 1, 5, 7]\n"
          ]
        }
      ]
    },
    {
      "cell_type": "markdown",
      "metadata": {
        "id": "62y6abfz9vzf"
      },
      "source": [
        "### if com lista\n",
        "\n",
        "Também podemos usar o if de uma forma simplificada na lista para verificarmos se algum valor existe dentro da lista:\n",
        "\n",
        "```\n",
        "if valor in lista:\n",
        "  lista.remove(valor)\n",
        "```\n",
        "Como o exemplo acima mostra ela é muito comum de ser usada para verificar se algum valor está dentro da lista antes de deletá-lo.\n",
        "\n",
        "<h2> Exercício 1 </h2>\n",
        "\n",
        "Dada a lista abaixo:\n",
        "```\n",
        "l2 = [3, 2, 5, 0, 0, 8, 3, 8, 8, 4, 0, 9, 7, 8, 9, 3, 6, 0, 1]\n",
        "```\n",
        "1. Conte a quantidade de termos que a lista possui e imprima\n",
        "2. Delete todos os **0** da lista e imprima-a\n",
        "3. Conte a quantidade de termos da nova lista"
      ]
    },
    {
      "cell_type": "code",
      "metadata": {
        "colab": {
          "base_uri": "https://localhost:8080/"
        },
        "id": "An1LqmQf-SuL",
        "outputId": "8fe6012c-0dac-446e-a904-7614b2599e01"
      },
      "source": [
        "# Declarando a lista\n",
        "l2 = [3, 2, 5, 0, 0, 8, 3, 8, 8, 4, 0, 9, 7, 8, 9, 3, 6, 0, 1]\n",
        "print(l2)\n",
        "\n",
        "# Contando a lista\n",
        "qtdInicial = len(l2)\n",
        "print(qtdInicial)\n",
        "\n",
        "# Deletando os valores\n",
        "for i in l2:\n",
        "  if 0 in l2:\n",
        "    l2.remove(0)\n",
        "print(l2)\n",
        "\n",
        "# Contando a lista final\n",
        "qtdFinal = len(l2)\n",
        "print(qtdFinal)"
      ],
      "execution_count": 4,
      "outputs": [
        {
          "output_type": "stream",
          "name": "stdout",
          "text": [
            "[3, 2, 5, 0, 0, 8, 3, 8, 8, 4, 0, 9, 7, 8, 9, 3, 6, 0, 1]\n",
            "19\n",
            "[3, 2, 5, 8, 3, 8, 8, 4, 9, 7, 8, 9, 3, 6, 1]\n",
            "15\n"
          ]
        }
      ]
    },
    {
      "cell_type": "markdown",
      "metadata": {
        "id": "4A9XTtoV_D1C"
      },
      "source": []
    },
    {
      "cell_type": "markdown",
      "metadata": {
        "id": "3vUjfYld_mJc"
      },
      "source": [
        "* Ordenando a Lista\n",
        "\n",
        "Existe 2 maneiras de ordenar. Uma delas é uma função e a outra é um método.\n",
        "\n",
        "```\n",
        "sorted(lista)\n",
        "lista.sort()\n",
        "lista.sort(reverse = True)\n",
        "```\n",
        "\n",
        "<h3> Exemplo 4 </h3>\n",
        "\n",
        "Dada a lista abaixo:\n",
        "\n",
        "`l1 = [0, 3, 1, 7, 5, 7, 4]`\n",
        "\n",
        "* Ordene a lista com o `sorted`e salve na variável sort1\n",
        "* Ordene a lista com o `.sort()` e salve na variável sort2\n",
        "* Compare os resultados\n",
        "* Faça a ordenação inversa da lista\n"
      ]
    },
    {
      "cell_type": "code",
      "metadata": {
        "colab": {
          "base_uri": "https://localhost:8080/"
        },
        "id": "gfl4Ys7CAJsq",
        "outputId": "ece09070-dadc-4d22-8b66-934a8f0da51d"
      },
      "source": [
        "# Declarando a lista\n",
        "l1 = [0, 3, 1, 7, 5, 7, 4]\n",
        "print(l1)\n",
        "print()\n",
        "\n",
        "# Fazendo o sort1\n",
        "sort1 = sorted(l1)\n",
        "print(sort1)\n",
        "print(l1)\n",
        "print()\n",
        "\n",
        "# Fazendo o sort2\n",
        "sort2 = l1.sort()\n",
        "print(sort2)\n",
        "print(l1)\n",
        "print()\n",
        "\n",
        "# Ordenação inversa\n",
        "l1.sort(reverse=True)\n",
        "print(l1)"
      ],
      "execution_count": 5,
      "outputs": [
        {
          "output_type": "stream",
          "name": "stdout",
          "text": [
            "[0, 3, 1, 7, 5, 7, 4]\n",
            "\n",
            "[0, 1, 3, 4, 5, 7, 7]\n",
            "[0, 3, 1, 7, 5, 7, 4]\n",
            "\n",
            "None\n",
            "[0, 1, 3, 4, 5, 7, 7]\n",
            "\n",
            "[7, 7, 5, 4, 3, 1, 0]\n"
          ]
        }
      ]
    },
    {
      "cell_type": "markdown",
      "metadata": {
        "id": "8X3mzIaUBC9o"
      },
      "source": [
        "<h2> Diferença entre Função e Método </h2>\n",
        "\n",
        "Como podemos ver no exemplo acima:\n",
        "\n",
        "* Funções são executadas em variáveis e possuem como output uma nova variável. Com isso as funções **NÃO** modificam a variável original. Toda função tem a cara: `saida = funcao(variavel)`\n",
        "* Já os métodos modificam as variáveis e salvam o resultado na própria variável. Todo método tem a cara: `variavel.metodo(configuracao)`\n",
        "\n",
        "Por esse comportamente básico os métodos não funcionam em tuplas."
      ]
    },
    {
      "cell_type": "markdown",
      "metadata": {
        "id": "1qo6OmevC_R0"
      },
      "source": [
        "## Declarando Listas\n",
        "\n",
        "É muito comum declararmos listas em branco para que o usuário possa inserir os valores e/ou possamos puxar os valores de algum banco de dados."
      ]
    },
    {
      "cell_type": "markdown",
      "metadata": {
        "id": "V03Wjr_eDLQS"
      },
      "source": [
        "<h2> Declarando Listas em branco </h2>\n",
        "\n",
        "```\n",
        "lista = []\n",
        "lista = list()\n",
        "```\n",
        "\n",
        "Após a declaração é possível ir adicionando os valores com o `.append()` que já vimos anteriormente.\n",
        "\n",
        "<h3> Exemplo 5 </h3>\n",
        "Crie uma lista vazia e peça para o usuário inserir 5 números dentro dela."
      ]
    },
    {
      "cell_type": "code",
      "metadata": {
        "colab": {
          "base_uri": "https://localhost:8080/"
        },
        "id": "i-zi__-CDlqB",
        "outputId": "2e91cbf2-688d-4c32-e95f-756bf37e9312"
      },
      "source": [
        "# Declarando a lista:\n",
        "lista = []\n",
        "\n",
        "for i in range(0,5):\n",
        "  lista.append(float(input(f'Digite o {i+1}º número: ')))\n",
        "\n",
        "print(lista)"
      ],
      "execution_count": 6,
      "outputs": [
        {
          "output_type": "stream",
          "name": "stdout",
          "text": [
            "Digite o 1º número: 4\n",
            "Digite o 2º número: 5\n",
            "Digite o 3º número: 6\n",
            "Digite o 4º número: 7\n",
            "Digite o 5º número: 7\n",
            "[4.0, 5.0, 6.0, 7.0, 7.0]\n"
          ]
        }
      ]
    },
    {
      "cell_type": "markdown",
      "metadata": {
        "id": "fixT4bVfEEFT"
      },
      "source": [
        "<h2> Declarando Listas com Range </h2>\n",
        "\n",
        "```\n",
        "lista = list(range(inicio,fim,passo))\n",
        "```\n",
        "\n",
        "Para cálculos e análises matemáticas é muito comum precisarmos criar uma lista de números com um passo conhecido para análises e até gráficos. Gerar esses números com o comando acima se torna bem simples.\n",
        "\n",
        "<h3> Exemplo 6 </h3>\n",
        "Crie uma lista de 0 a 10 com passo de 0.1"
      ]
    },
    {
      "cell_type": "code",
      "metadata": {
        "colab": {
          "base_uri": "https://localhost:8080/"
        },
        "id": "jGHANRyWEDvy",
        "outputId": "740dbc52-acd0-4164-f739-3136012a677f"
      },
      "source": [
        "# Criando lista\n",
        "lista2 = list(range(0, 100+1, 1))\n",
        "\n",
        "for i in lista2:\n",
        "  lista2[i] = lista2[i]/10\n",
        "print(lista2)\n"
      ],
      "execution_count": 7,
      "outputs": [
        {
          "output_type": "stream",
          "name": "stdout",
          "text": [
            "[0.0, 0.1, 0.2, 0.3, 0.4, 0.5, 0.6, 0.7, 0.8, 0.9, 1.0, 1.1, 1.2, 1.3, 1.4, 1.5, 1.6, 1.7, 1.8, 1.9, 2.0, 2.1, 2.2, 2.3, 2.4, 2.5, 2.6, 2.7, 2.8, 2.9, 3.0, 3.1, 3.2, 3.3, 3.4, 3.5, 3.6, 3.7, 3.8, 3.9, 4.0, 4.1, 4.2, 4.3, 4.4, 4.5, 4.6, 4.7, 4.8, 4.9, 5.0, 5.1, 5.2, 5.3, 5.4, 5.5, 5.6, 5.7, 5.8, 5.9, 6.0, 6.1, 6.2, 6.3, 6.4, 6.5, 6.6, 6.7, 6.8, 6.9, 7.0, 7.1, 7.2, 7.3, 7.4, 7.5, 7.6, 7.7, 7.8, 7.9, 8.0, 8.1, 8.2, 8.3, 8.4, 8.5, 8.6, 8.7, 8.8, 8.9, 9.0, 9.1, 9.2, 9.3, 9.4, 9.5, 9.6, 9.7, 9.8, 9.9, 10.0]\n"
          ]
        }
      ]
    },
    {
      "cell_type": "markdown",
      "metadata": {
        "id": "iIm9KhkUFb-X"
      },
      "source": [
        "Observe que a função `range( )` somente aceita números inteiros."
      ]
    },
    {
      "cell_type": "markdown",
      "metadata": {
        "id": "VlwXoOWGFoM2"
      },
      "source": [
        "### Copiando e Clonando Listas\n",
        "\n",
        "Quando declaramos uma nova variável e igualamos a uma lista ela na verdade vira um “clone” da lista original. Qualquer modificação em uma das duas irá impactar as duas."
      ]
    },
    {
      "cell_type": "markdown",
      "metadata": {
        "id": "4uPK4v1IFvD2"
      },
      "source": [
        "<h3> Exemplo 7 </h3>\n",
        "\n",
        "Crie uma lista:\n",
        "```\n",
        "l1 = [0, 2, 6, 4, 8, 1, 3]\n",
        "```\n",
        "Em seguida faça:\n",
        "```\n",
        "l2 = l1\n",
        "```\n",
        "Delete o último termo da lista `l2` e imprima as duas listas."
      ]
    },
    {
      "cell_type": "code",
      "metadata": {
        "colab": {
          "base_uri": "https://localhost:8080/"
        },
        "id": "fSc1HAhfGI0W",
        "outputId": "02958e21-52a9-4f6e-ef5a-645c7705b8ee"
      },
      "source": [
        "# Declarando lista:\n",
        "l1 = [0, 2, 6, 4, 8, 1, 3]\n",
        "l2 = l1\n",
        "print(f'l1 = {l1}')\n",
        "\n",
        "# Deletando último valor e plotando resultados\n",
        "l2.pop()\n",
        "print(f'l1 = {l1}')\n",
        "print(f'l2 = {l2}')"
      ],
      "execution_count": 8,
      "outputs": [
        {
          "output_type": "stream",
          "name": "stdout",
          "text": [
            "l1 = [0, 2, 6, 4, 8, 1, 3]\n",
            "l1 = [0, 2, 6, 4, 8, 1]\n",
            "l2 = [0, 2, 6, 4, 8, 1]\n"
          ]
        }
      ]
    },
    {
      "cell_type": "markdown",
      "metadata": {
        "id": "haCJFErVGcwj"
      },
      "source": [
        "Observe que fazer:\n",
        "```\n",
        "l2 = l1\n",
        "```\n",
        "A gente acaba clonando as listas. Elas estão ocupando o mesmo espaço de memória do computador, portanto, qualquer modificação feita em uma também será feita na outra então muito cuidado na hora de clonar as listas.\n",
        "\n",
        "Se quisermos criar uma cópia da lista para que essa segunda possa ser modificada à vontade devemos utilizar a seguinte sintaxe:\n",
        "\n",
        "```\n",
        "l2 = l1[:]\n",
        "```\n",
        "\n",
        "<h3> Exemplo 8 </h3>\n",
        "\n",
        "Execute o mesmo exemplo anterior só que agora copiando a lista ao invés de clonar."
      ]
    },
    {
      "cell_type": "code",
      "metadata": {
        "colab": {
          "base_uri": "https://localhost:8080/"
        },
        "id": "HoSPv3kAHFod",
        "outputId": "abaf890f-2465-483c-aaf5-5e336ea14a37"
      },
      "source": [
        "# Declarando lista:\n",
        "l1 = [0, 2, 6, 4, 8, 1, 3]\n",
        "l2 = l1[:]\n",
        "print(f'l1 = {l1}')\n",
        "\n",
        "# Deletando último valor e plotando resultados\n",
        "l2.pop()\n",
        "print(f'l1 = {l1}')\n",
        "print(f'l2 = {l2}')"
      ],
      "execution_count": 9,
      "outputs": [
        {
          "output_type": "stream",
          "name": "stdout",
          "text": [
            "l1 = [0, 2, 6, 4, 8, 1, 3]\n",
            "l1 = [0, 2, 6, 4, 8, 1, 3]\n",
            "l2 = [0, 2, 6, 4, 8, 1]\n"
          ]
        }
      ]
    },
    {
      "cell_type": "markdown",
      "metadata": {
        "id": "_MPnD8yuHPeY"
      },
      "source": [
        "## Listas dentro de for\n",
        "\n",
        "A utilização das listas dentro de loopings é bem similar às tuplas. A diferença é que agora podemos modificar as listas e utilizar os loopings para adicionar novos valores à lista."
      ]
    },
    {
      "cell_type": "markdown",
      "metadata": {
        "id": "G31pZEWzHfHY"
      },
      "source": [
        "<h3> Exemplo 9 </h3>\n",
        "\n",
        "Dada as listas abaixo:\n",
        "```\n",
        "l1 = [0, 2, 6, 4, 8, 1, 3]\n",
        "l2 = [3, 2, 1, 7, 8, 2, 5]\n",
        "```\n",
        "Crie uma nova lista que será a soma de termo a termo da l1 com a l2."
      ]
    },
    {
      "cell_type": "code",
      "metadata": {
        "colab": {
          "base_uri": "https://localhost:8080/"
        },
        "id": "I6Wp70DOHeZ9",
        "outputId": "cc9e3184-7e6c-4aa0-f966-cc05d1a8da50"
      },
      "source": [
        "# Declarando as listas:\n",
        "l1 = [0, 2, 6, 4, 8, 1, 3]\n",
        "l2 = [3, 2, 1, 7, 8, 2, 5]\n",
        "l3 = []\n",
        "\n",
        "for i, lista in enumerate(l1):\n",
        "  l3.append(l1[i] + l2[i])\n",
        "  print(f'{l1[i]} + {l2[i]} = {l3[i]}')\n",
        "print(l3)"
      ],
      "execution_count": 10,
      "outputs": [
        {
          "output_type": "stream",
          "name": "stdout",
          "text": [
            "0 + 3 = 3\n",
            "2 + 2 = 4\n",
            "6 + 1 = 7\n",
            "4 + 7 = 11\n",
            "8 + 8 = 16\n",
            "1 + 2 = 3\n",
            "3 + 5 = 8\n",
            "[3, 4, 7, 11, 16, 3, 8]\n"
          ]
        }
      ]
    },
    {
      "cell_type": "markdown",
      "metadata": {
        "id": "Wn2QJJY0IXw0"
      },
      "source": [
        "<h3> Exemplo 10 </h3>\n",
        "\n",
        "Dadas as listas abaixo:\n",
        "```\n",
        "l1 = [0, 2, 6, 4, 8, 1, 3]\n",
        "l2 = [3, 2, 1, 7, 8]\n",
        "```\n",
        "Execute o mesmo código do exemplo anterior."
      ]
    },
    {
      "cell_type": "code",
      "metadata": {
        "colab": {
          "base_uri": "https://localhost:8080/"
        },
        "id": "y12oeHFpIfaY",
        "outputId": "51370fa1-aa90-4db6-fef1-0e6ac4aca45d"
      },
      "source": [
        "# Declarando as listas:\n",
        "l1 = [0, 2, 6, 4, 8, 1, 3]\n",
        "l2 = [3, 2, 1, 7, 8]\n",
        "l3 = []\n",
        "\n",
        "for i, lista in enumerate(l2):\n",
        "  aux = l1[i] + l2[i]\n",
        "  l3.append(aux)\n",
        "  print(f'{l1[i]} + {l2[i]} = {l3[i]}')\n",
        "print(l3)"
      ],
      "execution_count": 14,
      "outputs": [
        {
          "output_type": "stream",
          "name": "stdout",
          "text": [
            "0 + 3 = 3\n",
            "2 + 2 = 4\n",
            "6 + 1 = 7\n",
            "4 + 7 = 11\n",
            "8 + 8 = 16\n",
            "[3, 4, 7, 11, 16]\n"
          ]
        }
      ]
    },
    {
      "cell_type": "markdown",
      "metadata": {
        "id": "QQXPyvoKInMA"
      },
      "source": [
        "Observe que o erro dado acima é porque tentamos acessar o `l2[5]` que na verdade não existe.\n",
        "\n",
        "Para contornarmos esse erro podemos primeiro descobrir qual é a menor lista para depois colocarmos esta dentro do `enumerate()`\n",
        "\n",
        "Mas tem um método bem mais fácil que é usar a função `zip`\n",
        "\n",
        "```\n",
        "for val1, val2 in zip(l1, l2):\n",
        "```\n",
        "Essa função fará com que o passo do for ande sempre junto para as 2 listas (ou tuplas). Assim, as variáveis `val1` e `val2` vão ter sempre os valores das respectivas posições do passo do for.\n",
        "\n",
        "<h3> Exemplo 11 </h3>\n",
        "\n",
        "Adapte o código anterior usando o zip"
      ]
    },
    {
      "cell_type": "code",
      "metadata": {
        "colab": {
          "base_uri": "https://localhost:8080/"
        },
        "id": "feJ4YwSYJnKu",
        "outputId": "0ea9cf97-7152-44c8-cc04-afcc8fee8d0d"
      },
      "source": [
        "# Declarando as listas:\n",
        "l1 = [0, 2, 6, 4, 8, 1, 3]\n",
        "l2 = [3, 2, 1, 7, 8]\n",
        "l3 = []\n",
        "\n",
        "for v1, v2 in zip(l1, l2):\n",
        "  l3.append(v1 + v2)\n",
        "  print(f'{v1} + {v2} = {l3[-1]}')\n",
        "print(l3)"
      ],
      "execution_count": 15,
      "outputs": [
        {
          "output_type": "stream",
          "name": "stdout",
          "text": [
            "0 + 3 = 3\n",
            "2 + 2 = 4\n",
            "6 + 1 = 7\n",
            "4 + 7 = 11\n",
            "8 + 8 = 16\n",
            "[3, 4, 7, 11, 16]\n"
          ]
        }
      ]
    },
    {
      "cell_type": "markdown",
      "metadata": {
        "id": "av_vl-l4J4oC"
      },
      "source": [
        "Observe neste caso que já que as listas não possuem o mesmo tamanho o for irá rodar uma quantidade de passos equivalente a quantidade de posições da menor lista."
      ]
    },
    {
      "cell_type": "markdown",
      "metadata": {
        "id": "2mKYxsmgKVI8"
      },
      "source": [
        "# Exercícios"
      ]
    },
    {
      "cell_type": "markdown",
      "metadata": {
        "id": "cFWQ-XT5KXMd"
      },
      "source": [
        "<h2> Exercício 1 </h2>\n",
        "\n",
        "Dada as listas e tuplas abaixo:\n",
        "```\n",
        "preco = (10.9, 5.40, 8.30, 3.40)\n",
        "qtdComprada = [0, 3, 2, 4]\n",
        "```\n",
        "Calcule e mostre para o usuário o valor total da compra dele sendo que o valor total será a soma da multiplicação do preço do produto pela quantidade comprada"
      ]
    },
    {
      "cell_type": "code",
      "metadata": {
        "id": "F0-06U5wK5WC",
        "outputId": "bc7a4aa5-fa38-455d-fdd6-d4f8a329a0ee",
        "colab": {
          "base_uri": "https://localhost:8080/"
        }
      },
      "source": [
        "preco = [10.9, 5.40, 8.30, 3.40]\n",
        "qtdComprada = [0, 3, 2, 4]\n",
        "l3 = []\n",
        "soma = 0\n",
        "for v1,v2 in zip(preco , qtdComprada):\n",
        "  l3.append(v1 * v2)\n",
        "  soma += l3[-1]\n",
        "print('O total da sua conta deu: {:.2f}'.format(soma))\n",
        "\n",
        "\n",
        "\n",
        "\n"
      ],
      "execution_count": 16,
      "outputs": [
        {
          "output_type": "stream",
          "name": "stdout",
          "text": [
            "O total da sua conta deu: 46.40\n"
          ]
        }
      ]
    },
    {
      "cell_type": "markdown",
      "metadata": {
        "id": "pKHED36bK5re"
      },
      "source": [
        "<h2> Exercício 2 </h2>\n",
        "Considerando o exercício anterior e considerando que as posições das listas acima são os preços respectivos de:\n",
        "\n",
        "* Lanche\n",
        "* Refri\n",
        "* Batata\n",
        "* Bombom\n",
        "\n",
        "Peça para o usuário informar a quantidade de cada produto que ele irá comprar para depois mostrar o valor total da conta dele."
      ]
    },
    {
      "cell_type": "code",
      "metadata": {
        "id": "0uhRq_ENLhgj",
        "outputId": "54b773f9-320e-4980-87be-449ce4b9a79e",
        "colab": {
          "base_uri": "https://localhost:8080/"
        }
      },
      "source": [
        "lista1 = ['lanche', 'Refri', 'Batata', 'Bombom']\n",
        "lista = list(range(0,4,1))\n",
        "lista2 = []\n",
        "soma = 0\n",
        "for i in lista:\n",
        "  num = float(input('Digite a quantidade de {} que você quer: '.format(lista1[i])))\n",
        "  lista2.append(num * preco[i])\n",
        "  soma += lista2[-1]\n",
        "print('O valor total da sua conta deu: {}'.format(soma))\n",
        "\n",
        "\n"
      ],
      "execution_count": 17,
      "outputs": [
        {
          "output_type": "stream",
          "name": "stdout",
          "text": [
            "Digite a quantidade de lanche que você quer: 4\n",
            "Digite a quantidade de Refri que você quer: 3\n",
            "Digite a quantidade de Batata que você quer: 5\n",
            "Digite a quantidade de Bombom que você quer: 2\n",
            "O valor total da sua conta deu: 108.10000000000001\n"
          ]
        }
      ]
    },
    {
      "cell_type": "markdown",
      "metadata": {
        "id": "D5bx-H9wLiIY"
      },
      "source": [
        "<h2> Exercício 3 </h2>\n",
        "Faça um programa que pede para o usuário inserir um produto e salvar este produto numa lista.\n",
        "\n",
        "Caso o produto já esteja na lista informe uma mensagem de erro e não cadastre o produto duplicado."
      ]
    },
    {
      "cell_type": "code",
      "metadata": {
        "id": "o3eo0Qs3L9HU",
        "outputId": "2e7751e9-ccd0-406c-f333-04ac2a8e3d10",
        "colab": {
          "base_uri": "https://localhost:8080/"
        }
      },
      "source": [
        "lista = []\n",
        "aux = 's'\n",
        "while aux == 's':\n",
        "  novo = input('Digite o produto a ser cadastrado: ')\n",
        "  if novo in lista:\n",
        "    print('Este produto já está na lista.')\n",
        "  else:\n",
        "    lista.append(novo)\n",
        "  aux = input('Deseja cadastrar outro produto? (s/n)')\n",
        "print(lista)"
      ],
      "execution_count": 18,
      "outputs": [
        {
          "output_type": "stream",
          "name": "stdout",
          "text": [
            "Digite o produto a ser cadastrado: hotdog\n",
            "Deseja cadastrar outro produto? (s/n)n\n",
            "['hotdog']\n"
          ]
        }
      ]
    }
  ]
}
