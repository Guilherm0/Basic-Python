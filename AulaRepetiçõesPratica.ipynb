{
  "nbformat": 4,
  "nbformat_minor": 0,
  "metadata": {
    "colab": {
      "provenance": [],
      "include_colab_link": true
    },
    "kernelspec": {
      "name": "python3",
      "display_name": "Python 3"
    },
    "language_info": {
      "name": "python"
    }
  },
  "cells": [
    {
      "cell_type": "markdown",
      "metadata": {
        "id": "view-in-github",
        "colab_type": "text"
      },
      "source": [
        "<a href=\"https://colab.research.google.com/github/Guilherm0/Basic-Python/blob/main/AulaRepeti%C3%A7%C3%B5esPratica.ipynb\" target=\"_parent\"><img src=\"https://colab.research.google.com/assets/colab-badge.svg\" alt=\"Open In Colab\"/></a>"
      ]
    },
    {
      "cell_type": "markdown",
      "metadata": {
        "id": "vmOiyAlWk7HR"
      },
      "source": [
        "# Repetições (loops)\n",
        "\n",
        "As repetições são usadas para executarmos alguma ação por várias vezes seguidas."
      ]
    },
    {
      "cell_type": "markdown",
      "metadata": {
        "id": "bcRKHwmqlMbU"
      },
      "source": [
        "## for\n",
        "\n",
        "O `for` é utilizado quando queremos executar uma ação uma determinada quantidade de vezes."
      ]
    },
    {
      "cell_type": "markdown",
      "metadata": {
        "id": "V02UrCnblc0H"
      },
      "source": [
        "<h2> Estrutura do for </h2>\n",
        "\n",
        "```\n",
        "passo = range(ini,fim)\n",
        "for i in passo:\n",
        "  print('Bloco de repetição')\n",
        "```\n",
        "Temos que determinar um início e um fim para o for, que irá determinar a quantidade de vezes que a ação repetida será feita.\n",
        "\n",
        "<h3> Exemplo 1 </h3>\n",
        "\n",
        "Imprima \"Olá\" cinco vezes seguidas."
      ]
    },
    {
      "cell_type": "code",
      "metadata": {
        "colab": {
          "base_uri": "https://localhost:8080/"
        },
        "id": "qrUhoWGolY3q",
        "outputId": "4e5ed63d-9023-4ae4-d0d2-6f3d7246bad6"
      },
      "source": [
        "# definindo o passo\n",
        "passo = range(1,5)\n",
        "\n",
        "# usando o for\n",
        "for i in passo:\n",
        "  print('Olá')\n"
      ],
      "execution_count": null,
      "outputs": [
        {
          "output_type": "stream",
          "name": "stdout",
          "text": [
            "Olá\n",
            "Olá\n",
            "Olá\n",
            "Olá\n"
          ]
        }
      ]
    },
    {
      "cell_type": "markdown",
      "metadata": {
        "id": "YEFw5Js1mdn0"
      },
      "source": [
        "Repare que no exemplo acima foram impressos somente quatro \"Olá\"s ao invés de cinco. No **Python** ele sempre percorre do número inicial até o último número antes do final... portanto ele executará:\n",
        "\n",
        "1 - 2 - 3 - 4 - <s>5</s>\n",
        "\n",
        "<h3> Vamos ver em ação? </h3>"
      ]
    },
    {
      "cell_type": "code",
      "metadata": {
        "colab": {
          "base_uri": "https://localhost:8080/"
        },
        "id": "mZPgac0gnAGw",
        "outputId": "1a8b17c9-f962-4ce8-a526-11e0311e3eff"
      },
      "source": [
        "passo = range(1,5+1)\n",
        "for i in passo:\n",
        "  print('i = {} - Olá'.format(i))\n"
      ],
      "execution_count": null,
      "outputs": [
        {
          "output_type": "stream",
          "name": "stdout",
          "text": [
            "i = 1 - Olá\n",
            "i = 2 - Olá\n",
            "i = 3 - Olá\n",
            "i = 4 - Olá\n",
            "i = 5 - Olá\n"
          ]
        }
      ]
    },
    {
      "cell_type": "markdown",
      "metadata": {
        "id": "DGfOsqeSnWln"
      },
      "source": [
        "Então para executarmos 5 vezes é comum somar 1 no ponto final"
      ]
    },
    {
      "cell_type": "code",
      "metadata": {
        "colab": {
          "base_uri": "https://localhost:8080/"
        },
        "id": "VMVmqohtna8s",
        "outputId": "ff1c25ab-243d-4875-b10d-08c8a6b918b0"
      },
      "source": [
        "passo = range(1,5+1)\n",
        "for i in passo:\n",
        "  print('passo = {} - Olá'.format(i))"
      ],
      "execution_count": null,
      "outputs": [
        {
          "output_type": "stream",
          "name": "stdout",
          "text": [
            "passo = 1 - Olá\n",
            "passo = 2 - Olá\n",
            "passo = 3 - Olá\n",
            "passo = 4 - Olá\n",
            "passo = 5 - Olá\n"
          ]
        }
      ]
    },
    {
      "cell_type": "markdown",
      "metadata": {
        "id": "lBLQEda-nk25"
      },
      "source": [
        "<h2> Exemplo 2 </h2>\n",
        "\n",
        "Ler um livro de 20 páginas"
      ]
    },
    {
      "cell_type": "code",
      "metadata": {
        "colab": {
          "base_uri": "https://localhost:8080/"
        },
        "id": "bzaGzrJIn4Pf",
        "outputId": "5f409037-ad53-407c-e9ae-ae6c11836903"
      },
      "source": [
        "passo = range(1,20 + 1)\n",
        "\n",
        "for i in passo:\n",
        "  print('Leia a página: {}'.format(i))\n",
        "print('FIM')\n"
      ],
      "execution_count": null,
      "outputs": [
        {
          "output_type": "stream",
          "name": "stdout",
          "text": [
            "Leia a página: 1\n",
            "Leia a página: 2\n",
            "Leia a página: 3\n",
            "Leia a página: 4\n",
            "Leia a página: 5\n",
            "Leia a página: 6\n",
            "Leia a página: 7\n",
            "Leia a página: 8\n",
            "Leia a página: 9\n",
            "Leia a página: 10\n",
            "Leia a página: 11\n",
            "Leia a página: 12\n",
            "Leia a página: 13\n",
            "Leia a página: 14\n",
            "Leia a página: 15\n",
            "Leia a página: 16\n",
            "Leia a página: 17\n",
            "Leia a página: 18\n",
            "Leia a página: 19\n",
            "Leia a página: 20\n",
            "FIM\n"
          ]
        }
      ]
    },
    {
      "cell_type": "markdown",
      "metadata": {
        "id": "NAvzfc_RoWtZ"
      },
      "source": [
        "<h2> Exemplo 3 </h2>\n",
        "\n",
        "Some 5 números digitados pelo usuário."
      ]
    },
    {
      "cell_type": "code",
      "metadata": {
        "colab": {
          "base_uri": "https://localhost:8080/"
        },
        "id": "scbOGzp5ouHo",
        "outputId": "9c762517-233e-44d7-f786-fe1786aac4bd"
      },
      "source": [
        "passo = range(1,5 + 1)\n",
        "\n",
        "soma = 0\n",
        "for i in passo:\n",
        "  n = int(input('digite um valor: '))\n",
        "  soma += n\n",
        "print('A soma total é de {}'.format(soma))"
      ],
      "execution_count": null,
      "outputs": [
        {
          "output_type": "stream",
          "name": "stdout",
          "text": [
            "digite um valor: 34\n",
            "digite um valor: 3\n",
            "digite um valor: 5\n",
            "digite um valor: 4\n",
            "digite um valor: 2\n",
            "A soma total é de 48\n"
          ]
        }
      ]
    },
    {
      "cell_type": "markdown",
      "metadata": {
        "id": "yvkH4EatpD7k"
      },
      "source": [
        "### Modificando o range\n",
        "\n",
        "O range tradicional vai aumentando de 1 em 1 dentro do for, porém podemos configurar para aumentar da maneira que quisermos."
      ]
    },
    {
      "cell_type": "markdown",
      "metadata": {
        "id": "c-vbKqjOpUoD"
      },
      "source": [
        "<h2> Estrutura do passo </h2>\n",
        "\n",
        "```\n",
        "range(inicio, fim, passo)\n",
        "```\n",
        "\n",
        "* início: número inicial do range\n",
        "* fim: número final do range\n",
        "* passo: de quanto em quanto o valor será incrementado\n"
      ]
    },
    {
      "cell_type": "markdown",
      "metadata": {
        "id": "02WcfgvtqK5L"
      },
      "source": [
        "<h3> Exemplo 1 </h3>\n",
        "\n",
        "range(0,10,2)"
      ]
    },
    {
      "cell_type": "code",
      "metadata": {
        "colab": {
          "base_uri": "https://localhost:8080/"
        },
        "id": "mzB0T8eqqR3c",
        "outputId": "82301898-c9a0-46e2-fb2e-0c7b0c41cb18"
      },
      "source": [
        "passo = range(0,10,2)\n",
        "\n",
        "for i in passo:\n",
        "  print(i)\n",
        "print('FIM')"
      ],
      "execution_count": null,
      "outputs": [
        {
          "output_type": "stream",
          "name": "stdout",
          "text": [
            "0\n",
            "2\n",
            "4\n",
            "6\n",
            "8\n",
            "FIM\n"
          ]
        }
      ]
    },
    {
      "cell_type": "markdown",
      "metadata": {
        "id": "7afcILRKqr2O"
      },
      "source": [
        "<h3> Exemplo 2 </h3>\n",
        "\n",
        "range(10,1,-1)"
      ]
    },
    {
      "cell_type": "code",
      "metadata": {
        "colab": {
          "base_uri": "https://localhost:8080/"
        },
        "id": "Swlil-DQqzjP",
        "outputId": "a6c7b6db-ac9c-4340-a2a0-4d83cb1c67f1"
      },
      "source": [
        "passo = range(10,0-1,-1)\n",
        "\n",
        "for i in passo:\n",
        "  print(i)"
      ],
      "execution_count": null,
      "outputs": [
        {
          "output_type": "stream",
          "name": "stdout",
          "text": [
            "10\n",
            "9\n",
            "8\n",
            "7\n",
            "6\n",
            "5\n",
            "4\n",
            "3\n",
            "2\n",
            "1\n",
            "0\n"
          ]
        }
      ]
    },
    {
      "cell_type": "markdown",
      "metadata": {
        "id": "YcrPj7TBrFXH"
      },
      "source": [
        "<h2> Exercício 1 </h2>\n",
        "\n",
        "Some os números ímpares consecutivos começando em 1 e terminando 9"
      ]
    },
    {
      "cell_type": "code",
      "metadata": {
        "colab": {
          "base_uri": "https://localhost:8080/"
        },
        "id": "0jF7VQL1rFCG",
        "outputId": "e0169cfd-76bc-411a-8f60-da3824bc9823"
      },
      "source": [
        "passo = range(1,9+1,2)\n",
        "soma = 0\n",
        "\n",
        "for i in passo:\n",
        "  soma = soma + i\n",
        "  print('i = {}, soma = {}'.format(i,soma))\n",
        "print(soma)"
      ],
      "execution_count": null,
      "outputs": [
        {
          "output_type": "stream",
          "name": "stdout",
          "text": [
            "i = 1, soma = 1\n",
            "i = 3, soma = 4\n",
            "i = 5, soma = 9\n",
            "i = 7, soma = 16\n",
            "i = 9, soma = 25\n",
            "25\n"
          ]
        }
      ]
    },
    {
      "cell_type": "markdown",
      "metadata": {
        "id": "L7qgdtWCrlcE"
      },
      "source": [
        "### Cálculos incrementais\n",
        "\n",
        "Em **Python**, assim como muitas outras linguagens de programação, existe uma maneira simplifica de fazer cálculos incrementais"
      ]
    },
    {
      "cell_type": "markdown",
      "metadata": {
        "id": "yegI_mlDrzsS"
      },
      "source": [
        "<h2> Estrutura dos cálculos incrementais </h2>\n",
        "\n",
        "> soma = soma + 1 -> `soma += 1` <br>\n",
        "soma = soma + 5 -> `soma += 5` <br>\n",
        "soma = soma - 1 -> `soma -= 1` <br>\n",
        "soma = soma - 5 -> `soma -= 5` <br>\n",
        "soma = soma * 2 -> `soma *= 2` \n",
        "\n",
        "<h3> Resumo </h3>\n",
        "\n",
        ">anterior `+=` incremento <br>\n",
        "anterior `-=` incremento <br>\n",
        "anterior `*=` incremento <br>\n",
        "anterior `/=` incremento <br>\n",
        "\n",
        "<h3> Exemplo 1 </h3>\n",
        "\n",
        "Começando pelo número 1, some 1 a ele 10 vezes consecutivas"
      ]
    },
    {
      "cell_type": "code",
      "metadata": {
        "colab": {
          "base_uri": "https://localhost:8080/"
        },
        "id": "Aa2cGd7cUDjn",
        "outputId": "f1c5d608-ae13-4eb2-de74-1db4b8d97b5b"
      },
      "source": [
        "soma = 1\n",
        "passo = range(1,10+1)\n",
        "\n",
        "for i in passo:\n",
        "  #soma = soma + 1\n",
        "  soma += 3\n",
        "print(soma)"
      ],
      "execution_count": null,
      "outputs": [
        {
          "output_type": "stream",
          "name": "stdout",
          "text": [
            "31\n"
          ]
        }
      ]
    },
    {
      "cell_type": "code",
      "metadata": {
        "colab": {
          "base_uri": "https://localhost:8080/"
        },
        "id": "9ZBPCCGdt9DI",
        "outputId": "62731cef-a4b7-450c-d951-cbdeddd0a608"
      },
      "source": [
        "soma = 1\n",
        "passo = range(1,10+1)\n",
        "for i in passo:\n",
        "  soma += 1\n",
        "print(soma)\n"
      ],
      "execution_count": null,
      "outputs": [
        {
          "output_type": "stream",
          "name": "stdout",
          "text": [
            "11\n"
          ]
        }
      ]
    },
    {
      "cell_type": "markdown",
      "metadata": {
        "id": "iZSTFDOVuM4A"
      },
      "source": [
        "<h3> Exemplo 2 </h3>\n",
        "\n",
        "Começando pelo número 2, multiplique ele por 2 nove vezes consecutivas"
      ]
    },
    {
      "cell_type": "code",
      "metadata": {
        "colab": {
          "base_uri": "https://localhost:8080/"
        },
        "id": "7lToFZCzuSpB",
        "outputId": "e3b163b4-3fb6-42f1-cd3b-d4452cb79e74"
      },
      "source": [
        "mult = 2\n",
        "passo = range(1,9+1)\n",
        "\n",
        "for i in passo:\n",
        "  #mult = mult*2\n",
        "  mult *= 2\n",
        "  print('i = {}, mult {}'.format(i,mult))\n"
      ],
      "execution_count": null,
      "outputs": [
        {
          "output_type": "stream",
          "name": "stdout",
          "text": [
            "i = 1, mult 4\n",
            "i = 2, mult 8\n",
            "i = 3, mult 16\n",
            "i = 4, mult 32\n",
            "i = 5, mult 64\n",
            "i = 6, mult 128\n",
            "i = 7, mult 256\n",
            "i = 8, mult 512\n",
            "i = 9, mult 1024\n"
          ]
        }
      ]
    },
    {
      "cell_type": "markdown",
      "metadata": {
        "id": "NEC83LINu4Hn"
      },
      "source": [
        "<h2> Exercício 1 </h2>\n",
        "\n",
        "Tire a média de 3 números digitados pelo usuário."
      ]
    },
    {
      "cell_type": "code",
      "metadata": {
        "colab": {
          "base_uri": "https://localhost:8080/"
        },
        "id": "T0sHws0PvBfO",
        "outputId": "c366e734-9072-4d99-b902-9cf54ffccc85"
      },
      "source": [
        "soma = 0\n",
        "passo = range(1, 3+1)\n",
        "for i in passo:\n",
        "  n = int(input('Digite o {}º número: '.format(i)))\n",
        "  soma += n\n",
        "  print('i = {}, soma = {}'.format(i,soma))\n",
        "media = soma / i\n",
        "print('A média é de: {}'.format(media))\n"
      ],
      "execution_count": null,
      "outputs": [
        {
          "output_type": "stream",
          "name": "stdout",
          "text": [
            "Digite o 1º número: 4\n",
            "i = 1, soma = 4\n",
            "Digite o 2º número: 4\n",
            "i = 2, soma = 8\n",
            "Digite o 3º número: 4\n",
            "i = 3, soma = 12\n",
            "A média é de: 4.0\n"
          ]
        }
      ]
    },
    {
      "cell_type": "markdown",
      "metadata": {
        "id": "8jvwLnRDvp90"
      },
      "source": [
        "<h2> Exercício 2 </h2>\n",
        "\n",
        "1. Pergunte para o usuário de quantos números ele quer tirar a média\n",
        "2. Tire a média desses números"
      ]
    },
    {
      "cell_type": "code",
      "metadata": {
        "colab": {
          "base_uri": "https://localhost:8080/"
        },
        "id": "qyVZh-mOvymM",
        "outputId": "8f85a285-b355-4b1b-edf6-d30dbb08cee7"
      },
      "source": [
        "soma = 0\n",
        "qnt = int(input('Quantos números você quer tirar a média? '))\n",
        "passo = range(1, qnt + 1)\n",
        "for i in passo:\n",
        "  n = int(input('Digite o {}º número: '.format(i)))\n",
        "  soma += n\n",
        "media = soma / qnt\n",
        "print('A média deu: {} '.format(media))"
      ],
      "execution_count": null,
      "outputs": [
        {
          "output_type": "stream",
          "name": "stdout",
          "text": [
            "Quantos números você quer tirar a média? 3\n",
            "Digite o 1º número: 3\n",
            "Digite o 2º número: 4\n",
            "Digite o 3º número: 5\n",
            "A média deu: 4.0 \n"
          ]
        }
      ]
    },
    {
      "cell_type": "markdown",
      "metadata": {
        "id": "-ZBojQytwSYF"
      },
      "source": [
        "## while\n",
        "\n",
        "Como já vimos, o for é uma estrutura de repetição que possui um começo e um fim bem determinados.\n",
        "\n",
        "Quando não sabemos onde termina um loop precisamos usar outros métodos."
      ]
    },
    {
      "cell_type": "markdown",
      "metadata": {
        "id": "HOC31j9Nwi55"
      },
      "source": [
        "O while será executado até sua condição inicial não ser mais verdade.\n",
        "\n",
        "<h2> Estrutura </h2> \n",
        "\n",
        "```\n",
        "while True:\n",
        "\tprint('Execute a ação')\n",
        "```\n",
        "\n",
        "Devido a essa estrutura precisamos ter uma variável de controle e ela precisa ser modificada dentro do loop para não ficarmos presos num looping infinito.\n",
        "\n",
        "```\n",
        "fim = False\n",
        "while fim == False:\n",
        "  print('Execute a ação')\n",
        "  fim = bool(input(‘Terminou?’))\n",
        "print('Fim')\n",
        "```\n",
        "\n",
        "<h3> Exemplo 1 </h3>\n",
        "\n",
        "Quero ler um capítulo de um livro mas não sei quantas páginas possui este capítulo"
      ]
    },
    {
      "cell_type": "code",
      "metadata": {
        "colab": {
          "base_uri": "https://localhost:8080/"
        },
        "id": "y9GWqxsZxw89",
        "outputId": "eda10a78-8642-4a4a-d042-9dd2b00e259a"
      },
      "source": [
        "fim = 'n'\n",
        "\n",
        "while fim == 'n':\n",
        "  print('Leia página')\n",
        "  fim = input('Terminou o capítulo? (s/n) ')\n",
        "print('FIM')"
      ],
      "execution_count": null,
      "outputs": [
        {
          "output_type": "stream",
          "name": "stdout",
          "text": [
            "Leia página\n",
            "Terminou o capítulo? (s/n) n\n",
            "Leia página\n",
            "Terminou o capítulo? (s/n) n\n",
            "Leia página\n",
            "Terminou o capítulo? (s/n) n\n",
            "Leia página\n",
            "Terminou o capítulo? (s/n) n\n",
            "Leia página\n",
            "Terminou o capítulo? (s/n) s\n",
            "FIM\n"
          ]
        }
      ]
    },
    {
      "cell_type": "markdown",
      "metadata": {
        "id": "LIQpYSB4zMOO"
      },
      "source": [
        "<h3> Exemplo 2 </h3>\n",
        "\n",
        "Começando pelo número 1, some 1 a ele 10 vezes consecutivas"
      ]
    },
    {
      "cell_type": "code",
      "metadata": {
        "colab": {
          "base_uri": "https://localhost:8080/"
        },
        "id": "_EqecwHrzcUt",
        "outputId": "9189ccd3-4a8e-4feb-b217-c1a555aca2d5"
      },
      "source": [
        "i = 0\n",
        "\n",
        "while i < 10:\n",
        "  i += 1 \n",
        "  print(i)"
      ],
      "execution_count": null,
      "outputs": [
        {
          "output_type": "stream",
          "name": "stdout",
          "text": [
            "1\n",
            "2\n",
            "3\n",
            "4\n",
            "5\n",
            "6\n",
            "7\n",
            "8\n",
            "9\n",
            "10\n"
          ]
        }
      ]
    },
    {
      "cell_type": "markdown",
      "metadata": {
        "id": "gxWv1g3Tz164"
      },
      "source": [
        "<h2> Exercício 1 </h2>\n",
        "\n",
        "Some números digitados pelo usuário até a soma deles ultrapassar 20"
      ]
    },
    {
      "cell_type": "code",
      "metadata": {
        "colab": {
          "base_uri": "https://localhost:8080/"
        },
        "id": "E-TiRxTaz-hF",
        "outputId": "40bb00d8-764a-43e2-d572-c6bd28076555"
      },
      "source": [
        "soma = 0\n",
        "\n",
        "while soma < 20:\n",
        "  n = int(input('Digite o número: '))\n",
        "  soma += n\n",
        "print(soma)"
      ],
      "execution_count": null,
      "outputs": [
        {
          "output_type": "stream",
          "name": "stdout",
          "text": [
            "Digite o numero: 1\n",
            "Digite o numero: 1\n",
            "Digite o numero: 1\n",
            "Digite o numero: -5\n",
            "Digite o numero: 10\n",
            "Digite o numero: 50\n",
            "58\n"
          ]
        }
      ]
    },
    {
      "cell_type": "markdown",
      "metadata": {
        "id": "Pph_TU7M0-th"
      },
      "source": [
        "## break\n",
        "\n",
        "O comando break é utilizado para sairmos de um loop em qualquer momento. Ele é muito utilizado quando:\n",
        "\n",
        "* Já atingimos o objetivo\n",
        "* O usuário pediu para parar o loop"
      ]
    },
    {
      "cell_type": "markdown",
      "metadata": {
        "id": "lyRv_8M11uHk"
      },
      "source": [
        "Já que ele sempre finaliza o looping no exato ponto que ele estava ele geralmente é utilizado junto com o comando `if` para testar se precisamos ou não parar o looping.\n",
        "\n",
        "<h3> Exemplo de looping infinito </h3>\n",
        "\n",
        "Some os números que o usuário digitar"
      ]
    },
    {
      "cell_type": "code",
      "metadata": {
        "colab": {
          "base_uri": "https://localhost:8080/"
        },
        "id": "lLtlAjr12LC2",
        "outputId": "ac5b7dac-f5b1-4f19-ffae-4fbcc17e2fc6"
      },
      "source": [
        "soma = 0\n",
        "\n",
        "while True:\n",
        "  n = float(input('Digite um valor: '))\n",
        "  soma += n\n",
        "print(soma)"
      ],
      "execution_count": null,
      "outputs": [
        {
          "name": "stdout",
          "output_type": "stream",
          "text": [
            "Digite um valor: 10\n"
          ]
        }
      ]
    },
    {
      "cell_type": "markdown",
      "metadata": {
        "id": "FfX4YbP23BmW"
      },
      "source": [
        "<h3> Exemplo de looping infinito corrigido </h3>\n",
        "\n",
        "Some os números que o usuário digitar até ele pedir para parar."
      ]
    },
    {
      "cell_type": "code",
      "metadata": {
        "id": "Y45Jr5Rj3HB7",
        "colab": {
          "base_uri": "https://localhost:8080/"
        },
        "outputId": "43197d32-be1f-425f-8df6-4daaa281604d"
      },
      "source": [
        "soma = 0\n",
        "\n",
        "while True:\n",
        "  n = int(input('Digite um valor: '))\n",
        "  soma += n\n",
        "  continua = input('Você quer continuar? (s/n) ')\n",
        "  if continua == 'n':\n",
        "    break\n",
        "  print('depois do break')\n",
        "print(soma)\n"
      ],
      "execution_count": null,
      "outputs": [
        {
          "output_type": "stream",
          "name": "stdout",
          "text": [
            "Digite um valor: 4\n",
            "Você quer continuar? (s/n) s\n",
            "depois do break\n",
            "Digite um valor: 5\n",
            "Você quer continuar? (s/n) s\n",
            "depois do break\n",
            "Digite um valor: 5\n",
            "Você quer continuar? (s/n) n\n",
            "14\n"
          ]
        }
      ]
    },
    {
      "cell_type": "markdown",
      "metadata": {
        "id": "pEZA9oC33OA-"
      },
      "source": [
        "<h3> Exemplo 1 </h3>\n",
        "\n",
        "Peça para o usuário digitar um número. Valide o que ele digitou, caso não seja um número, peça pra ele digitar de novo."
      ]
    },
    {
      "cell_type": "code",
      "metadata": {
        "colab": {
          "base_uri": "https://localhost:8080/"
        },
        "id": "pOUKQ1a03Nf-",
        "outputId": "abc3eb6a-1a6d-49b3-e267-4015500c5f82"
      },
      "source": [
        "while True:\n",
        "  num = input('Digite um número: ')\n",
        "  if num.isnumeric() == True:\n",
        "    print('Você digitou um numero válido')\n",
        "    break\n",
        "  print('Você não digitou um número válido')\n",
        "print('FIM')"
      ],
      "execution_count": null,
      "outputs": [
        {
          "output_type": "stream",
          "name": "stdout",
          "text": [
            "Digite um número: a\n",
            "Você não digitou um número válido\n",
            "Digite um número: s\n",
            "Você não digitou um número válido\n",
            "Digite um número:  \n",
            "Você não digitou um número válido\n",
            "Digite um número: 5\n",
            "Você digitou um numero válido\n",
            "FIM\n"
          ]
        }
      ]
    },
    {
      "cell_type": "markdown",
      "metadata": {
        "id": "IVcUZJbq5p1d"
      },
      "source": [
        "<h3> Exemplo 2 </h3>\n",
        "\n",
        "Faça um programa que calcula a média de valores digitados pelo usuário até o usuário pedir para parar de inserir números"
      ]
    },
    {
      "cell_type": "code",
      "metadata": {
        "colab": {
          "base_uri": "https://localhost:8080/"
        },
        "id": "vA44FzlW6zJJ",
        "outputId": "8b0aaa27-b5bf-4dc1-976b-7132021ecedc"
      },
      "source": [
        "soma = 0\n",
        "i = 0\n",
        "\n",
        "while True:\n",
        "  i += 1\n",
        "  num = float(input('Digite um número: '))\n",
        "  soma += num\n",
        "  continua = input('você quer continuar? (s/n) ')\n",
        "  if continua == 'n':\n",
        "    break\n",
        "media = soma / i\n",
        "print('Você digitou {} numeros, e a média é de {}'.format(i, media))"
      ],
      "execution_count": null,
      "outputs": [
        {
          "output_type": "stream",
          "name": "stdout",
          "text": [
            "Digite um número: 3\n",
            "você quer continuar? (s/n) s\n",
            "Digite um número: 4\n",
            "você quer continuar? (s/n) s\n",
            "Digite um número: 5\n",
            "você quer continuar? (s/n) n\n",
            "Você digitou 3 numeros, e a média é de 4.0\n"
          ]
        }
      ]
    },
    {
      "cell_type": "markdown",
      "metadata": {
        "id": "oNPzq_Ei73gy"
      },
      "source": [
        "# Exercícios"
      ]
    },
    {
      "cell_type": "markdown",
      "metadata": {
        "id": "aSawlb7J8wXc"
      },
      "source": [
        "<h2> Exercício 1 </h2>\n",
        "\n",
        "Faça um programa que calcula a tabuada do número digitado pelo usuário."
      ]
    },
    {
      "cell_type": "code",
      "metadata": {
        "id": "QPYS_FtJ8-3g",
        "outputId": "f35fe927-ce8d-4cbf-e2c4-9a79df1a6211",
        "colab": {
          "base_uri": "https://localhost:8080/"
        }
      },
      "source": [
        "mult = 0\n",
        "num = int(input('Digite um número: '))\n",
        "passo = range(1, 10+1)\n",
        "for i in passo:\n",
        "  mult = num * i \n",
        "  print('{} x {} = {}'.format(i,num,mult))"
      ],
      "execution_count": null,
      "outputs": [
        {
          "output_type": "stream",
          "name": "stdout",
          "text": [
            "Digite um número: 5\n",
            "1 x 5 = 5\n",
            "2 x 5 = 10\n",
            "3 x 5 = 15\n",
            "4 x 5 = 20\n",
            "5 x 5 = 25\n",
            "6 x 5 = 30\n",
            "7 x 5 = 35\n",
            "8 x 5 = 40\n",
            "9 x 5 = 45\n",
            "10 x 5 = 50\n"
          ]
        }
      ]
    },
    {
      "cell_type": "markdown",
      "metadata": {
        "id": "_rBeqxIV8Rvx"
      },
      "source": [
        "<h2> Exercício 2\n",
        "\n",
        "Faça um programa que o usuário irá digitar 10 números e você irá mostrar:\n",
        "\n",
        "* Qual foi o menor valor\n",
        "* Qual foi o maior valor\n",
        "* Qual a média dos valores"
      ]
    },
    {
      "cell_type": "code",
      "metadata": {
        "id": "32TsqDVn8RVT",
        "outputId": "e36d08ee-8260-4d60-dd09-ff402f9c2d91",
        "colab": {
          "base_uri": "https://localhost:8080/"
        }
      },
      "source": [
        "soma = 0\n",
        "passo = range(1,10+1)\n",
        "for i in passo:\n",
        "  num = int(input('Digite o {}º número: '.format(i)))\n",
        "  \n",
        "  if i == 1:\n",
        "    maior = num\n",
        "    menor = num\n",
        "\n",
        "  if num < menor:\n",
        "    menor = num\n",
        "\n",
        "  if num > maior:\n",
        "    maior = num\n",
        "\n",
        "  soma += num\n",
        "media = soma / i\n",
        "print('O menor valor foi {}'.format(menor))\n",
        "print('O maior valor foi {}'.format(maior))\n",
        "print('O valor médio foi {}'.format(media))"
      ],
      "execution_count": null,
      "outputs": [
        {
          "output_type": "stream",
          "name": "stdout",
          "text": [
            "Digite o 1º número: 2\n",
            "Digite o 2º número: 3\n",
            "Digite o 3º número: 7\n",
            "Digite o 4º número: 8\n",
            "Digite o 5º número: 10\n",
            "Digite o 6º número: 8\n",
            "Digite o 7º número: 6\n",
            "Digite o 8º número: 4\n",
            "Digite o 9º número: 2\n",
            "Digite o 10º número: 10\n",
            "O menor valor foi 2\n",
            "O maior valor foi 10\n",
            "O valor médio foi 6.0\n"
          ]
        }
      ]
    },
    {
      "cell_type": "markdown",
      "metadata": {
        "id": "RDgwAZQF75-i"
      },
      "source": [
        "<h2> Exercício 3 </h2>\n",
        "\n",
        "Faça um programa que calcula a Sequência de Fibonacci de N números, onde N é dado pelo usuário.\n",
        "\n",
        "Essa sequência é construída começando com os números 0 e 1. O próximo número da sequência é sempre a soma dos 2 anteriores.\n",
        "\n",
        "Sequência: 0 - 1 - 1 - 2 - 3 - 5 - 8 - 13 - 21 - ..."
      ]
    },
    {
      "cell_type": "code",
      "metadata": {
        "id": "bCusX8Iy8v_e",
        "outputId": "d6ae33ce-90fa-46e3-fe70-bc56d2a10b62",
        "colab": {
          "base_uri": "https://localhost:8080/"
        }
      },
      "source": [
        "a = 0 \n",
        "b = 1\n",
        "soma = 1\n",
        "n = int(input('Quantos números você quer na sequência de Fibonacci? '))\n",
        "for i in range(0,n):\n",
        "  print(a)\n",
        "  soma = b + a\n",
        "  a = b\n",
        "  b = soma\n"
      ],
      "execution_count": null,
      "outputs": [
        {
          "output_type": "stream",
          "name": "stdout",
          "text": [
            "Quantos números você quer na sequência de Fibonacci? 9\n",
            "0\n",
            "1\n",
            "1\n",
            "2\n",
            "3\n",
            "5\n",
            "8\n",
            "13\n",
            "21\n"
          ]
        }
      ]
    }
  ]
}