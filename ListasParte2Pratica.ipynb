{
  "nbformat": 4,
  "nbformat_minor": 0,
  "metadata": {
    "colab": {
      "provenance": [],
      "include_colab_link": true
    },
    "kernelspec": {
      "name": "python3",
      "display_name": "Python 3"
    },
    "language_info": {
      "name": "python"
    }
  },
  "cells": [
    {
      "cell_type": "markdown",
      "metadata": {
        "id": "view-in-github",
        "colab_type": "text"
      },
      "source": [
        "<a href=\"https://colab.research.google.com/github/Guilherm0/Basic-Python/blob/main/ListasParte2Pratica.ipynb\" target=\"_parent\"><img src=\"https://colab.research.google.com/assets/colab-badge.svg\" alt=\"Open In Colab\"/></a>"
      ]
    },
    {
      "cell_type": "markdown",
      "metadata": {
        "id": "99zA4INuNrJx"
      },
      "source": [
        "# Listas dentro de Listas\n",
        "\n",
        "As listas aceitam qualquer tipo de dados, até outras listas."
      ]
    },
    {
      "cell_type": "markdown",
      "metadata": {
        "id": "BynqPgYFNy6-"
      },
      "source": [
        "## Declarando uma lista composta\n",
        "\n",
        "Para declarar uma lista composta é só colocar uma lista dentro da outra"
      ]
    },
    {
      "cell_type": "markdown",
      "metadata": {
        "id": "z_X46qWcON0P"
      },
      "source": [
        "<h2> Entendendo como as listas compostas funcionam </h2>\n",
        "\n",
        "Imagina que eu tenho um cardápio. Dentro dele eu tenho vários comidas com seus respectivos preços.\n",
        "\n",
        "O cardápio seria então uma lista com todas as comidas\n",
        "\n",
        "Cada comida vai ser uma lista com o Nome da Comida e o seu Preço.\n",
        "\n",
        "```\n",
        "comida1 = ['Lanche', 10.9] \n",
        "comida2 = ['Batata',  5.5]\n",
        "comida3 = ['Refri' ,  3.9]\n",
        "cardapio = [comida1, comida2, comida3]\n",
        "```\n",
        "Então acessando os termos temos:\n",
        "```\n",
        "cardapio[0]    == comida1 == ['Lanche', 10.9]\n",
        "cardapio[0][1] == comida1[1] == 10.0\n",
        "cardapio[2]    == comida3 == ['Refri' ,  3.9]\n",
        "cardapio[2][0] == comida3[0] == 'Refri'\n",
        "```\n",
        "Vamos pegar uma lista dentro de outra lista já declarada e vamos entender como funciona acessar seus termos.\n",
        "\n",
        "<h3> Exemplo 1 </h3>\n",
        "\n",
        "Dado a lista abaixo:\n",
        "```\n",
        "cardapio = [['Lanche', 10.9], ['Batata',  5.5], ['Refri' ,  3.9]]\n",
        "```\n",
        "Acesse os valores:\n",
        "1. `cardapio[0]`, `cardapio[1]` e `cardapio[2]`\n",
        "2. `cardapio[0][0]`, `cardapio[0][1]`, `cardapio[1][0]`, `cardapio[1][1]`\n",
        "Repare nos tipos de cada variável"
      ]
    },
    {
      "cell_type": "code",
      "metadata": {
        "colab": {
          "base_uri": "https://localhost:8080/"
        },
        "id": "BA80Nqs7GO45",
        "outputId": "743b1d12-afc3-4835-a58c-791d41c579ab"
      },
      "source": [
        "# Declarando a lista de listas:\n",
        "cardapio = [['Lanche', 10.9], ['Batata',  5.5], ['Refri' ,  3.9]]\n",
        "print(cardapio)\n",
        "print()\n",
        "# Imprimindo os valores:\n",
        "print(f'cardapio[0] = {cardapio[0]} ')\n",
        "print(f'cardapio[1] = {cardapio[1]} ')\n",
        "print(f'cardapio[2] = {cardapio[2]} ')\n",
        "print()\n",
        "print(f'cardapio[1][0] = {cardapio[1][0]} ')"
      ],
      "execution_count": null,
      "outputs": [
        {
          "output_type": "stream",
          "name": "stdout",
          "text": [
            "[['Lanche', 10.9], ['Batata', 5.5], ['Refri', 3.9]]\n",
            "\n",
            "cardapio[0] = ['Lanche', 10.9] \n",
            "cardapio[1] = ['Batata', 5.5] \n",
            "cardapio[2] = ['Refri', 3.9] \n",
            "\n",
            "cardapio[1][0] = Batata \n"
          ]
        }
      ]
    },
    {
      "cell_type": "markdown",
      "metadata": {
        "id": "8VHRSx9BRL83"
      },
      "source": [
        "Repare que sempre que estamos acessando os valores dentro da lista: o **primeiro** `[ ]` vai acessar as posições mais externas da lista, o **segundo** `[ ]` vai acessar as posição da lista referente à lista do **primeiro** `[ ]` e assim em diante."
      ]
    },
    {
      "cell_type": "markdown",
      "metadata": {
        "id": "7jTzBPLYRoOI"
      },
      "source": [
        "Agora que já entendemos como acessar seus valores vamos ver como declarar uma lista composta.\n",
        "\n",
        "<h2> Declarando por partes </h2>\n",
        "\n",
        "Neste caso declara-se cada item de dentro da lista principal e depois colocam-se seus valores dentro da lista principal. Para quem está começando é a forma mais simples de entender:\n",
        "\n",
        "```\n",
        "lanche = ['Lanche', 10.9] \n",
        "batata = ['Batata',  5.5]\n",
        "refri  = ['Refri' ,  3.9]\n",
        "cardapio = [lanche, batata, refri]\n",
        "```\n",
        "No exemplo acima foram criadas 3 variáveis para armazenar listas com as informações de cada comida. A seguir essas listas foram colocadas dentro da lista principal: cardapio.\n",
        "\n",
        "<h3> Exemplo 2 </h3>\n",
        "\n",
        "* Declare a lista do exemplo acima.\n",
        "* Imprima o valor da posição: `cardapio[1][0]`\n",
        "* Compare os valores: `lanche == cardapio[0]`"
      ]
    },
    {
      "cell_type": "code",
      "metadata": {
        "colab": {
          "base_uri": "https://localhost:8080/"
        },
        "id": "QCEOfLvYSoKp",
        "outputId": "df151de0-c74e-4349-8b75-ab8ca0a661f7"
      },
      "source": [
        "# Declarando a lista de listas:\n",
        "lanche = ['Lanche', 10.9] \n",
        "batata = ['Batata',  5.5]\n",
        "refri  = ['Refri' ,  3.9]\n",
        "cardapio = [lanche, batata, refri]\n",
        "# Imprimindo os valores:\n",
        "print(cardapio[1][0])\n",
        "print(f'lanche = {lanche} e cardapio[0] = {cardapio[0]}')\n",
        "print(lanche == cardapio[0])"
      ],
      "execution_count": null,
      "outputs": [
        {
          "output_type": "stream",
          "name": "stdout",
          "text": [
            "Batata\n",
            "lanche = ['Lanche', 10.9] e cardapio[0] = ['Lanche', 10.9]\n",
            "True\n"
          ]
        }
      ]
    },
    {
      "cell_type": "markdown",
      "metadata": {
        "id": "KcUlf4GvTGyC"
      },
      "source": [
        "<h2> Declaração direta </h2>\n",
        "\n",
        "Nesse caso declara-se tudo de uma só vez.\n",
        "\n",
        "```\n",
        "cardapio = [['Lanche', 10.9], ['Batata',  5.5], ['Refri' ,  3.9]]\n",
        "```\n",
        "Já neste exemplo, nós temos o `[]` mais externo que é a lista mais externa, no qual cada posição dela vai acessar uma das 3 listas dentro do cardápio.\n",
        "\n",
        "Os `[]` mais internos são listas de cada uma das comidas do cardápio mostrando os nomes e preços de cada item do cardápio.\n",
        "\n",
        "<h3> Exemplo 3 </h3>\n",
        "\n",
        "* Declare a lista do exemplo acima.\n",
        "* Imprima o valor da posição: `cardapio[2]` e `cardapio[2][1]`"
      ]
    },
    {
      "cell_type": "code",
      "metadata": {
        "colab": {
          "base_uri": "https://localhost:8080/"
        },
        "id": "BfQcMDvIUH8e",
        "outputId": "efd79bc4-0d89-4d35-f881-79723cb8af6a"
      },
      "source": [
        "# Declarando a lista de listas:\n",
        "cardapio = [['Lanche', 10.9], ['Batata',  5.5], ['Refri' ,  3.9]]\n",
        "\n",
        "# Imprimindo os valores:\n",
        "print(f'cardapio[2] = {cardapio[2]}')\n",
        "print(f'cardapio[2][1] = {cardapio[2][1]}')"
      ],
      "execution_count": null,
      "outputs": [
        {
          "output_type": "stream",
          "name": "stdout",
          "text": [
            "cardapio[2] = ['Refri', 3.9]\n",
            "cardapio[2][1] = 3.9\n"
          ]
        }
      ]
    },
    {
      "cell_type": "markdown",
      "metadata": {
        "id": "7CeCy-vNUb46"
      },
      "source": [
        "<h2> Declaração com .append() </h2>\n",
        "\n",
        "Como vimos nas aulas anteriores podemos usar o append para inserir um novo item a uma lista.\n",
        "\n",
        "No caso de lista composta podemos usar o `.append()` para inserir uma nova lista dentro da lista mais externa.\n",
        "\n",
        "```\n",
        "cardapio = []\n",
        "comida = []\n",
        "comida.append('Lanche')\n",
        "comida.append(10.9)\n",
        "cardapio.append(comida[:])\n",
        "```\n",
        "Verifique que primeiro temos que declarar nossa lista externa cardapio como uma lista vazia.\n",
        "\n",
        "A seguir criamos uma lista com os itens `comida`\n",
        "\n",
        "Finalmente usamos o `.append()` para colocarmos esses valores dentro da lista externa: `cardapio` \n",
        "\n",
        "<h3> Exemplo 4 </h3>\n",
        "\n",
        "* Declare a lista cardapio inteira usando o `append()`\n",
        "* Imprima o valor da posição: `cardapio[0]` e `cardapio[0][1]`"
      ]
    },
    {
      "cell_type": "code",
      "metadata": {
        "colab": {
          "base_uri": "https://localhost:8080/"
        },
        "id": "TeRFYEYKWR9o",
        "outputId": "16aad75c-613c-49fc-cde6-029a97738691"
      },
      "source": [
        "# Declarando a lista de listas:\n",
        "cardapio = []\n",
        "comida = []\n",
        "\n",
        "comida.append('Lanche')\n",
        "comida.append(10.9)\n",
        "cardapio.append(comida[:])\n",
        "comida.clear()\n",
        "\n",
        "comida.append('Batata')\n",
        "comida.append(3.5)\n",
        "cardapio.append(comida[:])\n",
        "comida.clear()\n",
        "\n",
        "comida.append('Refri')\n",
        "comida.append(5.5)\n",
        "cardapio.append(comida[:])\n",
        "comida.clear()\n",
        "\n",
        "# Imprimindo os valores:\n",
        "print(cardapio)\n",
        "print(comida)"
      ],
      "execution_count": null,
      "outputs": [
        {
          "output_type": "stream",
          "name": "stdout",
          "text": [
            "[['Lanche', 10.9], ['batata', 3.5]]\n",
            "['batata', 3.5]\n"
          ]
        }
      ]
    },
    {
      "cell_type": "markdown",
      "metadata": {
        "id": "FXb_wmSFXCLR"
      },
      "source": [
        "Observe que tivemos que usar um método novo:\n",
        "\n",
        "```\n",
        "var.clear()\n",
        "```\n",
        "Esse método limpa a memória da variável eliminando todos os valores que existam dentro dela.\n",
        "\n",
        "Esse é um método muito útil para quando criamos algumas variáveis temporárias.\n",
        "\n",
        "<h2> Exercício 1 </h2>\n",
        "\n",
        "Usando o método do `append()` e `loops` crie uma lista composta na qual o usuário irá fornecer os termos\n",
        "\n",
        "* A lista externa deve ter 3 itens\n",
        "* A lista interna deve ter 2 itens cada."
      ]
    },
    {
      "cell_type": "code",
      "metadata": {
        "colab": {
          "base_uri": "https://localhost:8080/"
        },
        "id": "aQf8MlzFG5E6",
        "outputId": "6b8a8271-5b1a-46f8-f4ca-d7605ad6291e"
      },
      "source": [
        "# Declarando as listas vazias\n",
        "cardapio = []\n",
        "comida = []\n",
        "\n",
        "# Pedindo para o usuário fornecer os valores\n",
        "for c in range(0,3):\n",
        "  comida.append(str(input('Fale o nome da comida: ')))\n",
        "  comida.append(str(input('Fale o valor da comida: ')))\n",
        "  cardapio.append(comida[:])\n",
        "  comida.clear()\n",
        "print(cardapio)"
      ],
      "execution_count": null,
      "outputs": [
        {
          "output_type": "stream",
          "name": "stdout",
          "text": [
            "Fale o nome da comida: lanche\n",
            "Fale o valor da comida: 10.9\n",
            "Fale o nome da comida: refri\n",
            "Fale o valor da comida: 3.5\n",
            "Fale o nome da comida: batata\n",
            "Fale o valor da comida: 5.5\n",
            "[['lanche', '10.9'], ['refri', '3.5'], ['batata', '5.5']]\n"
          ]
        }
      ]
    },
    {
      "cell_type": "markdown",
      "metadata": {
        "id": "UizibgHCX7wi"
      },
      "source": [
        "## Acessando os valores de uma lista composta\n",
        "\n",
        "Para acessar os valores de uma lista composta é só usar os `[ ]`.\n",
        "\n",
        "Sempre é acessada a lista mais externa para a mais interna"
      ]
    },
    {
      "cell_type": "markdown",
      "metadata": {
        "id": "_ANFXPRQYbDr"
      },
      "source": [
        "<h2> Acesso direto </h2>\n",
        "\n",
        "Para acessar as listas é só colocar a posição da lista desejada no primeiro `[ ]`\n",
        "\n",
        "```\n",
        "cardapio[0]    == ['Lanche', 10.9]\n",
        "cardapio[1]    == ['Batata',  5.5]\n",
        "cardapio[2]    == ['Refri' ,  3.9]\n",
        "```\n",
        "Para acessar os valores dentro das listas é só colocar a posição do valor da lista desejada no segundo `[ ]`\n",
        "\n",
        "```\n",
        "cardapio[0][1] == 10.9\n",
        "cardapio[1][0] == 'Batata'\n",
        "cardapio[2][0] == 'Refri' \n",
        "```\n",
        "\n",
        "<h3> Exemplo 5 </h3>\n",
        "\n",
        "Dado a lista anterior: `cardapio` acesse os valores listados acima."
      ]
    },
    {
      "cell_type": "code",
      "metadata": {
        "colab": {
          "base_uri": "https://localhost:8080/"
        },
        "id": "h50tsbqTZCNq",
        "outputId": "6b4d98bd-ddd1-43fc-914a-a2cd5fba2c43"
      },
      "source": [
        "# Acessando as listas:\n",
        "print(cardapio[0])\n",
        "print(cardapio[1])\n",
        "print(cardapio[2])\n",
        "\n",
        "# Acessando os valores dentro das listas: \n",
        "print(cardapio[0][1])\n",
        "print(cardapio[1][0])\n",
        "print(cardapio[2][0])"
      ],
      "execution_count": null,
      "outputs": [
        {
          "output_type": "stream",
          "name": "stdout",
          "text": [
            "['Lanche', 10.9]\n",
            "['Batata', 5.5]\n",
            "['Refri', 3.5]\n",
            "10.9\n",
            "Batata\n",
            "Refri\n"
          ]
        }
      ]
    },
    {
      "cell_type": "markdown",
      "metadata": {
        "id": "1sllZVncZsAv"
      },
      "source": [
        "<h2> Acessando valores dentro de um for </h2>\n",
        "\n",
        "Assim como podemos declarar os valores dentro de loopings também podemos acessá-los.\n",
        "```\n",
        "for c in cardapio:\n",
        "  print(f'c = {c}, c[0] = {c[0]}, c[1] = {c[1]}')\n",
        "```\n",
        "Basicamente o funcionamento do for é: Para cada `lista c` dentro de `cardapio`, plote a posição `[pos]` dessa lista.\n",
        "\n",
        "<h3> Exemplo 6 </h3>\n",
        "\n",
        "Dado a lista anterior: `cardapio`, acesse:\n",
        "* Todos os nomes no cardápio\n",
        "* Todos os preços no cardápio"
      ]
    },
    {
      "cell_type": "code",
      "metadata": {
        "colab": {
          "base_uri": "https://localhost:8080/"
        },
        "id": "zVk6X1qjJR0O",
        "outputId": "5e654c33-3707-4161-fee4-3e1a6bb10710"
      },
      "source": [
        "# Imprimindo todas as listas c\n",
        "for c in cardapio:\n",
        "  print(f'c = {c}')\n",
        "print('-'*20)\n",
        "\n",
        "# Imprimindo todos os nomes\n",
        "for c in cardapio:\n",
        "  print(f'c[0] = nome = {c[0]}')\n",
        "print('-'*20)\n",
        "\n",
        "soma = 0\n",
        "# Imprimindo todos os preços\n",
        "for c in cardapio:\n",
        "  print(f'c[1] = preço = {c[1]}')\n",
        "print('-'*20)"
      ],
      "execution_count": null,
      "outputs": [
        {
          "output_type": "stream",
          "name": "stdout",
          "text": [
            "c = ['lanche', '12']\n",
            "c = ['batata', '123']\n",
            "c = ['refri', '2313']\n",
            "--------------------\n",
            "c[0] = nome = lanche\n",
            "c[0] = nome = batata\n",
            "c[0] = nome = refri\n",
            "--------------------\n",
            "c[1] = preço = 12\n",
            "c[1] = preço = 123\n",
            "c[1] = preço = 2313\n",
            "--------------------\n"
          ]
        }
      ]
    },
    {
      "cell_type": "markdown",
      "metadata": {
        "id": "TqGayzuGnRg7"
      },
      "source": [
        "# Exercícios\n"
      ]
    },
    {
      "cell_type": "markdown",
      "metadata": {
        "id": "TePbhvmQnWKa"
      },
      "source": [
        "<h2> Exercício 1 </h2>\n",
        "\n",
        "Dada a lista: \n",
        "```\n",
        "cardapio = [['Lanche', 10.9], ['Batata',  5.5], ['Refri' ,  3.9]]\n",
        "```\n",
        "Faça um programa que irá mostrar o cardápio do restaurante de forma organizada."
      ]
    },
    {
      "cell_type": "code",
      "metadata": {
        "id": "wur0enxZntOs",
        "outputId": "52f1eccc-938b-4401-e6d5-19db9eab10b0",
        "colab": {
          "base_uri": "https://localhost:8080/"
        }
      },
      "source": [
        "print('-'*30)\n",
        "print(' '*10, 'cardápio', ' '*10)\n",
        "print('-'*30)\n",
        "for c in cardapio:\n",
        "  print(f'{c[0]}.................R$ {c[1]}')\n"
      ],
      "execution_count": null,
      "outputs": [
        {
          "output_type": "stream",
          "name": "stdout",
          "text": [
            "------------------------------\n",
            "           cardápio           \n",
            "------------------------------\n",
            "lanche.................R$ 10.9\n",
            "refri.................R$ 3.5\n",
            "batata.................R$ 5.5\n"
          ]
        }
      ]
    },
    {
      "cell_type": "markdown",
      "metadata": {
        "id": "fTU72RWcnttp"
      },
      "source": [
        "<h2> Exercício 2 </h2>\n",
        "\n",
        "Faça um programa que irá mostrar item a item do cardápio para o usuário e irá perguntar quantos daquele item a pessoa quer comprar.\n",
        "\n",
        "No final mostre a quantidade de cada item comprado e também o valor total da compra."
      ]
    },
    {
      "cell_type": "code",
      "metadata": {
        "id": "mj12E2M5oLrU",
        "outputId": "4d2fad7f-719d-49ea-cb72-58cd9a7afe0d",
        "colab": {
          "base_uri": "https://localhost:8080/"
        }
      },
      "source": [
        "l3 = []\n",
        "soma = 0\n",
        "for c in cardapio:\n",
        "  count = input(f'Nós temos {c[0]}, você gostaria de quantos? ')\n",
        "  soma += (float(count) * float(c[1]))\n",
        "print(soma)\n"
      ],
      "execution_count": null,
      "outputs": [
        {
          "output_type": "stream",
          "name": "stdout",
          "text": [
            "Nós temos lanche, você gostaria de quantos? 2\n",
            "Nós temos refri, você gostaria de quantos? 3\n",
            "Nós temos batata, você gostaria de quantos? 2\n",
            "43.3\n"
          ]
        }
      ]
    },
    {
      "cell_type": "markdown",
      "metadata": {
        "id": "GdhY9fG3oMAb"
      },
      "source": [
        "<h2> Exercício 3 </h2>\n",
        "Faça um programa que o usuário cadastre algumas informações sobre clientes:\n",
        "\n",
        "* nome\n",
        "* email\n",
        "* telefone\n",
        "* idade\n",
        "\n",
        "A seguir faça um sistema de pesquisa no qual o usuário digita o email e o sistema mostra todas as informações deste usuário.\n"
      ]
    },
    {
      "cell_type": "code",
      "metadata": {
        "id": "7etBAWLGopQS",
        "outputId": "5b9e5d43-72fe-40af-b173-0b5c6fce4aee",
        "colab": {
          "base_uri": "https://localhost:8080/"
        }
      },
      "source": [
        "aux = int(input('Quantos clientes você quer cadastrar? '))\n",
        "cliente = []\n",
        "lista = []\n",
        "for i in range(0,aux):\n",
        "  cliente.append(input('Nome: '))\n",
        "  cliente.append(input('Email: '))\n",
        "  cliente.append(input('Telefone: '))\n",
        "  cliente.append(input('Idade: '))\n",
        "  lista.append(cliente[:])\n",
        "  cliente.clear()\n",
        "  print('-'*30)\n",
        "\n",
        "novo = input('Digite um email: ')\n",
        "for c in lista:\n",
        "  if novo in c:\n",
        "    print(c)"
      ],
      "execution_count": null,
      "outputs": [
        {
          "output_type": "stream",
          "name": "stdout",
          "text": [
            "Quantos clientes você quer cadastrar? 2\n",
            "Nome: guimo\n",
            "Email: guimobrabo\n",
            "Telefone: 22\n",
            "Idade: 21\n",
            "------------------------------\n",
            "Nome: guiba\n",
            "Email: guibareto\n",
            "Telefone: 22\n",
            "Idade: 21\n",
            "------------------------------\n",
            "Digite um email: guimobrabo\n",
            "['guimo', 'guimobrabo', '22', '21']\n"
          ]
        }
      ]
    }
  ]
}