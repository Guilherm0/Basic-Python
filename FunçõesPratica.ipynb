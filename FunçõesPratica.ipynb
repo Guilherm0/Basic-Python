{
  "nbformat": 4,
  "nbformat_minor": 0,
  "metadata": {
    "colab": {
      "provenance": [],
      "include_colab_link": true
    },
    "kernelspec": {
      "name": "python3",
      "display_name": "Python 3"
    },
    "language_info": {
      "name": "python"
    }
  },
  "cells": [
    {
      "cell_type": "markdown",
      "metadata": {
        "id": "view-in-github",
        "colab_type": "text"
      },
      "source": [
        "<a href=\"https://colab.research.google.com/github/Guilherm0/Basic-Python/blob/main/Fun%C3%A7%C3%B5esPratica.ipynb\" target=\"_parent\"><img src=\"https://colab.research.google.com/assets/colab-badge.svg\" alt=\"Open In Colab\"/></a>"
      ]
    },
    {
      "cell_type": "markdown",
      "metadata": {
        "id": "99zA4INuNrJx"
      },
      "source": [
        "# Funções\n",
        "As funções são rotinas que são executadas várias vezes nos programas."
      ]
    },
    {
      "cell_type": "markdown",
      "metadata": {
        "id": "UpEKpe82x_XA"
      },
      "source": [
        "As funções no Python e em qualquer linguagem de programação estão sendo usadas desde que você começou a programar. Muito provavelmente a primeira função que você aprendeu a usar foi a: `print()`.\n",
        "\n",
        "É claro que você já percebeu o tanto que essa função é utilizada e também muitas outras. Mas conforme a gente vai codando mais e mais e resolvendo problemas de negócios com programação a gente percebe que está executando rotinas iguais várias vezes e em vários programas.\n",
        "\n",
        "As funções vieram para dar a possibilidade para o programador criar suas próprias rotinas e assim deixar os seus códigos mais organizados, rápidos, eficientes e ainda de quebra economizar muito tempo programando."
      ]
    },
    {
      "cell_type": "markdown",
      "metadata": {
        "id": "4qQKWn1WzHBw"
      },
      "source": [
        "## Criando Funções\n",
        "\n",
        "```\n",
        "def funcao():\n",
        "  print('Função')\n",
        "\n",
        "funcao()\n",
        "```"
      ]
    },
    {
      "cell_type": "markdown",
      "metadata": {
        "id": "Ngkezy3izOAn"
      },
      "source": [
        "Para criar uma função basta utilizar a palavra reservada `def` para começar a sua função.\n",
        "\n",
        "Todas as funções devem vir no começo do programa (antes do programa principal) - ou em arquivo separado para ser importado. #spoiler (bibliotecas).\n",
        "\n",
        "O que pode ser feito dentro de uma subrotina pode ser tão simples quanto uma operação de soma, até complexo a nível de um algorítmo de Machine Learning.\n",
        "\n",
        "O mais importante é sempre pensar: \"eu gasto muito tempo fazendo a mesma coisa repetidas vezes?\" Se sim então crie uma subrotina! Crie uma função!!!\n",
        "\n",
        "<h2> Estrutura da função </h2> \n",
        "\n",
        "```\n",
        "# Função\n",
        "def funcao(parametro):     -> declaração da funcao\n",
        "  print('Função')          -> inicio da função\n",
        "\n",
        "                           -> fim da função\n",
        "# Programa Principal\n",
        "...\n",
        "funcao(parametro)                   -> chamada da função\n",
        "```\n",
        "> `parametro` são as variáveis, estruturas e instâncias que a função irá receber para ser executada.\n",
        "\n",
        "<h2> Função sem parâmetro de entrada </h2>\n",
        "\n",
        "Faça uma função que imprima algo:"
      ]
    },
    {
      "cell_type": "code",
      "metadata": {
        "colab": {
          "base_uri": "https://localhost:8080/"
        },
        "id": "uXiIHlhP07HH",
        "outputId": "9062b6ce-1e4e-4e9b-982a-41b59aae891f"
      },
      "source": [
        "#Função de imprimir\n",
        "def ola():\n",
        "  print('Olá, seja muito bem vindo')\n",
        "  print('-------------------------')\n",
        "\n",
        "\n",
        "#Programa principal\n",
        "print('Ação 1')\n",
        "ola()\n",
        "print('Pegar dados')\n",
        "ola()"
      ],
      "execution_count": null,
      "outputs": [
        {
          "output_type": "stream",
          "name": "stdout",
          "text": [
            "Ação 1\n",
            "Olá, seja muito bem vindo\n",
            "-------------------------\n",
            "Pegar dados\n",
            "Olá, seja muito bem vindo\n",
            "-------------------------\n"
          ]
        }
      ]
    },
    {
      "cell_type": "markdown",
      "metadata": {
        "id": "t-Gifqe1z-mU"
      },
      "source": [
        "A partir do momento que a função está declarada e rodando o nome da função passa a ser uma nova função que você pode executar a qualquer momento.\n",
        "\n",
        "<h2> Exercício 1 </h2>\n",
        "Faça um programa que imprima:\n",
        "\n",
        "```\n",
        "---------------------------------\n",
        "----------- Bem Vindo -----------\n",
        "---------------------------------\n",
        "```"
      ]
    },
    {
      "cell_type": "code",
      "metadata": {
        "colab": {
          "base_uri": "https://localhost:8080/"
        },
        "id": "J7Hts9uy1ndh",
        "outputId": "67bb9cf6-8452-4860-b5b6-885f257ea214"
      },
      "source": [
        "# Função Bem-vindo\n",
        "def bemvindo():\n",
        "  print('----------------------------')\n",
        "  print('-------- Bem Vindo ---------')\n",
        "  print('----------------------------')\n",
        "\n",
        "# Principal\n",
        "bemvindo()"
      ],
      "execution_count": null,
      "outputs": [
        {
          "output_type": "stream",
          "name": "stdout",
          "text": [
            "----------------------------\n",
            "-------- Bem Vindo ---------\n",
            "----------------------------\n"
          ]
        }
      ]
    },
    {
      "cell_type": "markdown",
      "metadata": {
        "id": "ewkFuJXj2Col"
      },
      "source": [
        "<h2> Função com parâmetro de entrada </h2>\n",
        "\n",
        "```\n",
        "# Função\n",
        "def funcao(parametro):     -> declaração da funcao\n",
        "  parametro                -> inicio da função\n",
        "\n",
        "                           -> fim da função\n",
        "# Programa Principal\n",
        "...\n",
        "funcao(parametro)          -> chamada da função\n",
        "```\n",
        "\n",
        "Para esse exemplo o parâmetro deve ser dado na chamada da função no programa principal. Esse parâmetro deve ser usado de alguma maneira na função para atender ao seu propósito.\n",
        "\n",
        "<h3> Exemplo 1 </h3>\n",
        "\n",
        "Faça um programa que o usuário escreva a frase e o programa imprime:\n",
        "```\n",
        "---------------------------------\n",
        "----------- Bem Vindo -----------\n",
        "---------------------------------\n",
        "```"
      ]
    },
    {
      "cell_type": "code",
      "metadata": {
        "colab": {
          "base_uri": "https://localhost:8080/"
        },
        "id": "w8i9RwF524t1",
        "outputId": "9e558584-ba52-47be-88ca-f5ce58fae8eb"
      },
      "source": [
        "# Função de imprimir\n",
        "def txt(texto):\n",
        "  tamanho = len(texto)\n",
        "  print('-'*40)\n",
        "  print('-'*int((39-tamanho)*0.5), texto, '-'*int((39-tamanho)*0.5))\n",
        "  print('-'*40)\n",
        "\n",
        "# Principal\n",
        "frase = str(input('Digite uma pequena frase: '))\n",
        "txt(frase)"
      ],
      "execution_count": null,
      "outputs": [
        {
          "output_type": "stream",
          "name": "stdout",
          "text": [
            "Digite uma pequena frase: acarai\n",
            "----------------------------------------\n",
            "---------------- acarai ----------------\n",
            "----------------------------------------\n"
          ]
        }
      ]
    },
    {
      "cell_type": "markdown",
      "metadata": {
        "id": "sO1DpYFP3ysK"
      },
      "source": [
        "<h2> Exercício 2 </h2>\n",
        "\n",
        "Faça um programa que some 2 números"
      ]
    },
    {
      "cell_type": "code",
      "metadata": {
        "colab": {
          "base_uri": "https://localhost:8080/"
        },
        "id": "T7jLY8bS3yVN",
        "outputId": "43dea5ac-7eae-4f27-cca6-cec979249194"
      },
      "source": [
        "# Função de imprimir\n",
        "def soma(a,b):\n",
        "  s = a + b\n",
        "  print(f'A soma é de {s}')\n",
        "\n",
        "# Principal\n",
        "soma(3,4)"
      ],
      "execution_count": null,
      "outputs": [
        {
          "output_type": "stream",
          "name": "stdout",
          "text": [
            "A soma é de 7\n"
          ]
        }
      ]
    },
    {
      "cell_type": "markdown",
      "metadata": {
        "id": "0cHNhUsP4URn"
      },
      "source": [
        "<h2> Funções com parâmetros opcionais </h2>\n",
        "\n",
        "```\n",
        "# Função\n",
        "def funcao(parametro=valor):     -> declaração da funcao\n",
        "  parametro                      -> inicio da função\n",
        "\n",
        "                                 -> fim da função\n",
        "# Programa Principal\n",
        "...\n",
        "funcao(parametro)                -> chamada da função\n",
        "``` \n",
        "\n",
        "Em toda função é possível configurar quais parâmetros precisam de um valor inicial configurado e quais não precisam.\n",
        "\n",
        "<h2> Exemplo 2 </h2>\n",
        "\n",
        "Refaça o programa da soma mas agora deixe ambas os parâmetros como opcionais."
      ]
    },
    {
      "cell_type": "code",
      "metadata": {
        "colab": {
          "base_uri": "https://localhost:8080/"
        },
        "id": "KyYmQEXC5Jat",
        "outputId": "f2dafe28-2d34-4c68-addf-f6b9ff2d48a4"
      },
      "source": [
        "# Função de somar\n",
        "def soma(a,b=0):\n",
        "  s = a + b\n",
        "  print(a)\n",
        "  print(b)\n",
        "  print(f'A soma deu {s}')\n",
        "\n",
        "# Principal\n",
        "valor1 = 8\n",
        "valor2 = 5\n",
        "soma(valor1)"
      ],
      "execution_count": null,
      "outputs": [
        {
          "output_type": "stream",
          "name": "stdout",
          "text": [
            "8\n",
            "0\n",
            "A soma deu 8\n"
          ]
        }
      ]
    },
    {
      "cell_type": "markdown",
      "metadata": {
        "id": "Ziig4ypW7-sQ"
      },
      "source": [
        "<h2> Funções com retorno </h2>\n",
        "\n",
        "```\n",
        "# Função\n",
        "def funcao(parametro=valor):     -> declaração da funcao\n",
        "  parametro                      -> inicio da função\n",
        "  return var\n",
        "                                 -> fim da função\n",
        "# Programa Principal\n",
        "...\n",
        "funcao(parametro)                -> chamada da função\n",
        "``` \n",
        "\n",
        "Também é possível configurar se algum valor deve voltar para o usuário do programa.\n",
        "\n",
        "<h2> Exemplo 3 </h2>\n",
        "\n",
        "Ainda no programa da soma volte para o Programa Principal o valor da soma."
      ]
    },
    {
      "cell_type": "code",
      "metadata": {
        "colab": {
          "base_uri": "https://localhost:8080/"
        },
        "id": "QKaEdzth8ZUI",
        "outputId": "964649ae-7016-48a6-98b5-cde3250cc5ec"
      },
      "source": [
        "# Função de imprimir\n",
        "def soma(a,b=0):\n",
        "  s = a+b\n",
        "  return s\n",
        "\n",
        "# Principal\n",
        "var = soma(7,5)\n",
        "print(var)"
      ],
      "execution_count": null,
      "outputs": [
        {
          "output_type": "stream",
          "name": "stdout",
          "text": [
            "12\n"
          ]
        }
      ]
    },
    {
      "cell_type": "markdown",
      "metadata": {
        "id": "xET1W-VY844v"
      },
      "source": [
        "<h2> Funções com quantidade indefinida de parâmetros </h2>\n",
        "\n",
        "```\n",
        "# Função\n",
        "def funcao(*num):     -> declaração da funcao\n",
        "  parametro                      -> inicio da função\n",
        "  return var\n",
        "                                 -> fim da função\n",
        "# Programa Principal\n",
        "...\n",
        "funcao(parametro)                -> chamada da função\n",
        "``` \n",
        "\n",
        "É possível deixar livre a quantidade de variáveis que são inseridas como parâmetro.\n",
        "\n",
        "<h2> Exemplo 4 </h2>\n",
        "\n",
        "Faça um programa que tire a média de uma quantidade indeterminada de números."
      ]
    },
    {
      "cell_type": "code",
      "metadata": {
        "colab": {
          "base_uri": "https://localhost:8080/"
        },
        "id": "1qQkUtg-9Xz3",
        "outputId": "6aca2bbc-d108-4d00-9018-b4d731b0e80c"
      },
      "source": [
        "# Função de média\n",
        "def media(*num):\n",
        "  soma = 0\n",
        "  qtd = len(num)\n",
        "  for i in num:\n",
        "    soma += i\n",
        "  media = soma / qtd\n",
        "  return media\n",
        "# Principal\n",
        "var = media(1,3,5,7,9,11,13,15,17,19,21)\n",
        "print(var)"
      ],
      "execution_count": null,
      "outputs": [
        {
          "output_type": "stream",
          "name": "stdout",
          "text": [
            "11.0\n"
          ]
        }
      ]
    },
    {
      "cell_type": "markdown",
      "metadata": {
        "id": "mxWorzDw-A-c"
      },
      "source": [
        "## Help e Docstring\n",
        "\n",
        "O Python possui um comando de help que nos ajuda a verificar como usar a função corretamente."
      ]
    },
    {
      "cell_type": "markdown",
      "metadata": {
        "id": "VpdSZLQo-KVt"
      },
      "source": [
        "Para usar o `help` pasta usar o comando:\n",
        "\n",
        "```\n",
        "help(funcao)\n",
        "```\n",
        "\n",
        "Aplique o help nas funções:\n",
        "* print()\n",
        "* len()\n",
        "* sorted()"
      ]
    },
    {
      "cell_type": "code",
      "metadata": {
        "colab": {
          "base_uri": "https://localhost:8080/"
        },
        "id": "pcisrRFq-a-T",
        "outputId": "d5aa2420-5c9f-4f3c-cdf1-f5a31c482611"
      },
      "source": [
        "help(sorted)"
      ],
      "execution_count": null,
      "outputs": [
        {
          "output_type": "stream",
          "name": "stdout",
          "text": [
            "Help on built-in function sorted in module builtins:\n",
            "\n",
            "sorted(iterable, /, *, key=None, reverse=False)\n",
            "    Return a new list containing all items from the iterable in ascending order.\n",
            "    \n",
            "    A custom key function can be supplied to customize the sort order, and the\n",
            "    reverse flag can be set to request the result in descending order.\n",
            "\n"
          ]
        }
      ]
    },
    {
      "cell_type": "markdown",
      "metadata": {
        "id": "EZiJ-iCe-kN0"
      },
      "source": [
        "<h2> Docstring </h2>\n",
        "\n",
        "Como estamos aprendendo a fazer nossas funções uma coisa que também devemos aprender é como documentar nossas funções para que outros devs também consigam usar. Para isso basta usar o comando `aspas triplas` logo abaixo da declaração da função.\n",
        "\n",
        "    \"\"\"\n",
        "    Breve texto explicativo da função\n",
        "    :param a: o que este parâmetro faz\n",
        "    :param b: o que este parâmetro faz\n",
        "    :return: o que será retornado ao usuário.\n",
        "    \"\"\"\n",
        "\n",
        "Ao se usar o comando help() na sua função será mostrado o texto acima para o usuário.\n",
        "\n",
        "<h3> Exemplo 5 </h3>\n",
        "\n",
        "Crie o `docstring` da função da média"
      ]
    },
    {
      "cell_type": "code",
      "metadata": {
        "colab": {
          "base_uri": "https://localhost:8080/"
        },
        "id": "qGXfGE4q_m9q",
        "outputId": "a4ccffd0-9ef2-4760-fc64-e93e9a749987"
      },
      "source": [
        "# Função de média\n",
        "def media(*num):\n",
        "  \"\"\"\n",
        "  A função média calcula a média de vários números\n",
        "  a função não aceita listas nem dicionários\n",
        "  num: são os números enviados, int ou float\n",
        "  return: media = média dos números\n",
        "  autor: Everton\n",
        "  versão: 1.0 \n",
        "  \"\"\"\n",
        "  soma = 0\n",
        "  qtd = len(num)\n",
        "  for i in num:\n",
        "    soma += i\n",
        "  media = soma / qtd\n",
        "  return media\n",
        "# Principal\n",
        "var = media(1,3,5,7,9,11,13,15,17,19,21)\n",
        "print(var)\n",
        "help(media)"
      ],
      "execution_count": null,
      "outputs": [
        {
          "output_type": "stream",
          "name": "stdout",
          "text": [
            "11.0\n",
            "Help on function media in module __main__:\n",
            "\n",
            "media(*num)\n",
            "    A função média calcula a média de vários números\n",
            "    a função não aceita listas nem dicionários\n",
            "    num: são os números enviados, int ou float\n",
            "    return: media = média dos números\n",
            "    autor: Everton\n",
            "    versão: 1.0\n",
            "\n"
          ]
        }
      ]
    },
    {
      "cell_type": "markdown",
      "metadata": {
        "id": "TqdO87aZAQbb"
      },
      "source": [
        "## Escopo Local e Global\n",
        "\n",
        "Escopo local é o escopo da função enquanto o global é do programa inteiro."
      ]
    },
    {
      "cell_type": "markdown",
      "metadata": {
        "id": "s_IacpQuA-40"
      },
      "source": [
        "Ao se fazer uma subrotina ou função - ela é operada num escopo local, ou seja, todas as variáveis utilizadas na subrotina NÃO são enviadas para o programa principal.\n",
        "\n",
        "Já as variáveis declaradas no programa principal - escopo global - podem ser utilizadas nas funções mas não tem o seu valor atualizado no escopo global a não ser que use variável global.\n",
        "\n",
        "As variáveis globais são aquelas que podem ser utilizadas tanto no escopo global quanto no local.\n",
        "\n",
        "<h3> Exemplo 6 </h3>\n",
        "\n",
        "Modifique o programa da soma de modo que você imprima os valores a, b, c e s nos dois escopos."
      ]
    },
    {
      "cell_type": "code",
      "metadata": {
        "colab": {
          "base_uri": "https://localhost:8080/"
        },
        "id": "Iuqux5eCAQKY",
        "outputId": "b990e941-80ca-4cbc-8066-4b51452951ba"
      },
      "source": [
        "# Função de somar\n",
        "def soma(a,b=0):\n",
        "  s = a + b\n",
        "  c = 8 \n",
        "  print(a,b,c,s)\n",
        "  return s\n",
        "\n",
        "# Principal\n",
        "a = 5\n",
        "b = 2\n",
        "c = 3\n",
        "somado = soma(a,b)\n",
        "print(a,b,c)\n",
        "print(somado)"
      ],
      "execution_count": null,
      "outputs": [
        {
          "output_type": "stream",
          "name": "stdout",
          "text": [
            "5 2 8 7\n",
            "5 2 3\n",
            "7\n"
          ]
        }
      ]
    },
    {
      "cell_type": "markdown",
      "metadata": {
        "id": "-D7uYCk6CGks"
      },
      "source": [
        "<h2> Declaração Global de variável </h2>\n",
        "\n",
        "Para contornar o problema acima é possível declarar algumas variáveis como globais. Assim qualquer modificação que elas sofrerem na subrotina também afetará o programa principal\n",
        "\n",
        "```\n",
        "global var\n",
        "```\n",
        "\n",
        "<h3> Exemplo 7 </h3>\n",
        "\n",
        "Modifique o programa da soma: coloque as variáveis a e s como globais."
      ]
    },
    {
      "cell_type": "code",
      "metadata": {
        "colab": {
          "base_uri": "https://localhost:8080/"
        },
        "id": "FZx2GZusCnnR",
        "outputId": "652e3493-4c79-4594-9d3d-574cefc0be0a"
      },
      "source": [
        "# Função de somar\n",
        "def soma(a,b=0):\n",
        "  global c, s\n",
        "  s = a + b\n",
        "  c = 8 \n",
        "  print(a,b,c,s)\n",
        "  return s\n",
        "\n",
        "# Principal\n",
        "a = 5\n",
        "b = 2\n",
        "c = 3\n",
        "somado = soma(a,b)\n",
        "print(a,b,c)\n",
        "print(somado)"
      ],
      "execution_count": null,
      "outputs": [
        {
          "output_type": "stream",
          "name": "stdout",
          "text": [
            "5 2 8 7\n",
            "5 2 8\n",
            "7\n"
          ]
        }
      ]
    },
    {
      "cell_type": "markdown",
      "metadata": {
        "id": "zxInU-AhDGLL"
      },
      "source": [
        "## Funções Nativas.\n",
        "\n",
        "O Python possui diversas funções nativas. Quer saber mais sobre elas? Rode o comando:\n",
        "\n",
        "```\n",
        "dir(__builtins__)\n",
        "```"
      ]
    },
    {
      "cell_type": "code",
      "metadata": {
        "id": "5HfV676hDFkA"
      },
      "source": [
        "dir(__builtins__)"
      ],
      "execution_count": null,
      "outputs": []
    },
    {
      "cell_type": "markdown",
      "metadata": {
        "id": "UwuvrRTBDXkl"
      },
      "source": [
        "# Exercícios"
      ]
    },
    {
      "cell_type": "markdown",
      "metadata": {
        "id": "9D9KClm_DaOg"
      },
      "source": [
        "<h2> Exercício 1 </h2>\n",
        "\n",
        "Faça uma função que calcule fatorial de um número\n"
      ]
    },
    {
      "cell_type": "code",
      "metadata": {
        "id": "txGKjAQBDkRP",
        "outputId": "03b26c62-faef-4e22-ca46-4c374e351a56",
        "colab": {
          "base_uri": "https://localhost:8080/"
        }
      },
      "source": [
        "def fatorial(a):\n",
        "  soma = a\n",
        "  for i in range(a-1,0,-1):\n",
        "    soma *= i\n",
        "  return soma\n",
        "\n",
        "num = int(input('Digite um número: '))\n",
        "n = fatorial(num)\n",
        "print(f'O fatorial do seu número é {n}')\n",
        "    "
      ],
      "execution_count": null,
      "outputs": [
        {
          "output_type": "stream",
          "name": "stdout",
          "text": [
            "Digite um número: 12\n",
            "O fatorial do seu número é 479001600\n"
          ]
        }
      ]
    },
    {
      "cell_type": "markdown",
      "metadata": {
        "id": "p1OCO_O2DkqI"
      },
      "source": [
        "<h2> Exercício 2 </h2>\n",
        "\n",
        "Faça uma função que verifica se o número é par. O retorno deve ser um booleano"
      ]
    },
    {
      "cell_type": "code",
      "metadata": {
        "id": "LwEPtap6Dtka",
        "outputId": "c8029e13-4ca4-4247-88b9-6780825fa697",
        "colab": {
          "base_uri": "https://localhost:8080/"
        }
      },
      "source": [
        "def par(a):\n",
        "  if a % 2 == 0:\n",
        "    return True\n",
        "  else:\n",
        "    return False\n",
        "\n",
        "num1 = int(input('Digite um número: '))\n",
        "var = par(num1)\n",
        "print(var)"
      ],
      "execution_count": null,
      "outputs": [
        {
          "output_type": "stream",
          "name": "stdout",
          "text": [
            "Digite um número: 3212\n",
            "True\n"
          ]
        }
      ]
    },
    {
      "cell_type": "markdown",
      "metadata": {
        "id": "WqdNa-MXEQGk"
      },
      "source": [
        "<h2> Exercício 3 </h2>\n",
        "\n",
        "Faça uma função que peça um input para o usuário, valide o tipo do input e retorne o valor já transformado\n"
      ]
    },
    {
      "cell_type": "code",
      "metadata": {
        "id": "5MFiQBqSEPwL",
        "outputId": "8fc2f8f7-14c0-4d0c-87bb-7c9b9bfd84fe",
        "colab": {
          "base_uri": "https://localhost:8080/"
        }
      },
      "source": [
        "def tipo():\n",
        "  num = input('Digite um número: ')\n",
        "  if num.isnumeric():\n",
        "    return True\n",
        "  elif num.isnumeric() == False:\n",
        "    print('input errado. Tente novamente.')\n",
        "\n",
        "\n",
        "\n",
        "tipo()"
      ],
      "execution_count": null,
      "outputs": [
        {
          "output_type": "stream",
          "name": "stdout",
          "text": [
            "Digite um número: asd\n",
            "input errado. Tente novamente.\n"
          ]
        }
      ]
    },
    {
      "cell_type": "markdown",
      "metadata": {
        "id": "t6QuWfINEiNK"
      },
      "source": [
        "<h2> Exercício 4 </h2>\n",
        "\n",
        "Faça uma função que dada um lista de números, ela retorne:\n",
        "* A média dos números\n",
        "* A soma dos números\n",
        "* O menor valor\n",
        "* O maior valor"
      ]
    },
    {
      "cell_type": "code",
      "metadata": {
        "id": "LprElcs7EuSs",
        "outputId": "5d869fa3-f669-499e-bcc8-ed57d3a915ae",
        "colab": {
          "base_uri": "https://localhost:8080/"
        }
      },
      "source": [
        "def listas(a):\n",
        "  soma = 0\n",
        "  for i in a:\n",
        "    soma += i\n",
        "  media = soma / len(a)\n",
        "  b = sorted(a)\n",
        "  return media, soma, b[0], b[-1]\n",
        "\n",
        "lista = [1,5,2,8,3,7,2,]\n",
        "aux = listas(lista)\n",
        "print(aux)"
      ],
      "execution_count": null,
      "outputs": [
        {
          "output_type": "stream",
          "name": "stdout",
          "text": [
            "(4.0, 28, 1, 8)\n"
          ]
        }
      ]
    }
  ]
}